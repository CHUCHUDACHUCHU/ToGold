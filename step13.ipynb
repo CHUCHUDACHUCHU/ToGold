{
 "cells": [
  {
   "cell_type": "code",
   "execution_count": null,
   "metadata": {},
   "outputs": [],
   "source": [
    "# 정렬"
   ]
  },
  {
   "cell_type": "code",
   "execution_count": 1,
   "metadata": {},
   "outputs": [
    {
     "name": "stdout",
     "output_type": "stream",
     "text": [
      "1\n",
      "2\n",
      "3\n",
      "4\n",
      "5\n"
     ]
    }
   ],
   "source": [
    "# 수 정렬하기.\n",
    "def test1():\n",
    "    attempts = int(input())\n",
    "    result = []\n",
    "    for i in range(attempts):\n",
    "        result.append(int(input()))\n",
    "    result.sort()\n",
    "    for v in result:\n",
    "        print(v)\n",
    "\n",
    "test1()"
   ]
  },
  {
   "cell_type": "code",
   "execution_count": 3,
   "metadata": {},
   "outputs": [
    {
     "name": "stdout",
     "output_type": "stream",
     "text": [
      "34\n",
      "30\n"
     ]
    }
   ],
   "source": [
    "# 평균, 중앙값\n",
    "def test2():\n",
    "    arr = []\n",
    "    for i in range(5):\n",
    "        arr.append(int(input()))\n",
    "\n",
    "    arr.sort()\n",
    "    print(sum(arr)//5)\n",
    "    print(arr[2])\n",
    "\n",
    "test2()"
   ]
  },
  {
   "cell_type": "code",
   "execution_count": 8,
   "metadata": {},
   "outputs": [
    {
     "name": "stdout",
     "output_type": "stream",
     "text": [
      "[76, 85, 93, 98, 100]\n",
      "98\n"
     ]
    }
   ],
   "source": [
    "# 커트라인\n",
    "def test3():\n",
    "    n, target = map(int,input().split())\n",
    "    arr = list(map(int, input().split()))\n",
    "    arr.sort()\n",
    "    print(arr[-target])\n",
    "\n",
    "test3()"
   ]
  },
  {
   "cell_type": "code",
   "execution_count": null,
   "metadata": {},
   "outputs": [],
   "source": [
    "# 오름차순..인데!\n",
    "# 시간을 절약하는...!\n",
    "# input()보다 sys.stdin.readlin()\n",
    "import sys\n",
    "def test4():\n",
    "    attempts = int(input())\n",
    "    arr = []\n",
    "    for i in range(attempts):\n",
    "        arr.append(int(sys.stdin.readline().strip()))\n",
    "    arr.sort()\n",
    "\n",
    "    for v in arr:\n",
    "        print(v)\n",
    "\n",
    "test4()"
   ]
  },
  {
   "cell_type": "code",
   "execution_count": null,
   "metadata": {},
   "outputs": [],
   "source": [
    "# 오름차순인데...\n",
    "# 메모리를 덜 쓰는...!\n",
    "import sys\n",
    "\n",
    "def test5():\n",
    "    max_value = 10000\n",
    "    attempts = int(sys.stdin.readline())\n",
    "    \n",
    "    count = [0] * (max_value + 1)\n",
    "    \n",
    "    for _ in range(attempts):\n",
    "        num = int(sys.stdin.readline())\n",
    "        count[num] += 1\n",
    "\n",
    "    for i in range(max_value + 1):\n",
    "        if count[i] > 0:\n",
    "            for _ in range(count[i]):\n",
    "                print(i)\n",
    "\n",
    "test5()\n"
   ]
  },
  {
   "cell_type": "code",
   "execution_count": 6,
   "metadata": {},
   "outputs": [
    {
     "name": "stdout",
     "output_type": "stream",
     "text": [
      "965310000"
     ]
    }
   ],
   "source": [
    "# 숫자의 각자릿수값을 내림차수\n",
    "def test6():\n",
    "    n = input()\n",
    "    count = [0]*10\n",
    "    for i in n:\n",
    "        count[int(i)] += 1\n",
    "\n",
    "    for j in range(9,-1,-1):\n",
    "        if count[j] > 0:\n",
    "            for _ in range(count[j]):\n",
    "                print(j, end='')\n",
    "\n",
    "test6()"
   ]
  },
  {
   "cell_type": "code",
   "execution_count": 9,
   "metadata": {},
   "outputs": [
    {
     "name": "stdout",
     "output_type": "stream",
     "text": [
      "1 -1\n",
      "1 1\n",
      "2 2\n",
      "3 3\n",
      "3 3\n"
     ]
    }
   ],
   "source": [
    "# 좌표정렬\n",
    "def test7():\n",
    "    attempts = int(input())\n",
    "    coor = []\n",
    "    for _ in range(attempts):\n",
    "        coor.append(list(map(int, input().split())))\n",
    "\n",
    "    coor.sort(key=lambda x: [x[0], x[1]])\n",
    "\n",
    "    for c in coor:\n",
    "        print(f'{c[0]} {c[1]}')\n",
    "\n",
    "test7()"
   ]
  },
  {
   "cell_type": "code",
   "execution_count": 12,
   "metadata": {},
   "outputs": [
    {
     "name": "stdout",
     "output_type": "stream",
     "text": [
      "[[1, -1], [1, 2], [2, 2], [3, 3], [0, 4]]\n",
      "1 -1\n",
      "1 2\n",
      "2 2\n",
      "3 3\n",
      "0 4\n"
     ]
    }
   ],
   "source": [
    "# y좌표 먼저 기준으로\n",
    "# 좌표정렬\n",
    "def test8():\n",
    "    attempts = int(input())\n",
    "    coor = []\n",
    "    for _ in range(attempts):\n",
    "        coor.append(list(map(int, input().split())))\n",
    "\n",
    "    coor.sort(key=lambda x: (x[1], x[0]))\n",
    "    for c in coor:\n",
    "        print(f'{c[0]} {c[1]}')\n",
    "\n",
    "test8()"
   ]
  },
  {
   "cell_type": "code",
   "execution_count": 14,
   "metadata": {},
   "outputs": [
    {
     "name": "stdout",
     "output_type": "stream",
     "text": [
      "i\n",
      "im\n",
      "it\n",
      "no\n",
      "but\n",
      "more\n",
      "wait\n",
      "wont\n",
      "yours\n",
      "cannot\n",
      "hesitate\n"
     ]
    }
   ],
   "source": [
    "# 중복제거, 길이기준, 사전순\n",
    "def test9():\n",
    "    attempts = int(input())\n",
    "    words= []\n",
    "    for _ in range(attempts):\n",
    "        words.append(input())\n",
    "\n",
    "    words = set(words)\n",
    "    words = sorted(words, key=lambda x: (len(x), x))\n",
    "\n",
    "    for w in words:\n",
    "        print(w)\n",
    "\n",
    "test9()"
   ]
  },
  {
   "cell_type": "code",
   "execution_count": 17,
   "metadata": {},
   "outputs": [
    {
     "name": "stdout",
     "output_type": "stream",
     "text": [
      "20 Sun\n",
      "21 Jun\n",
      "21 Doh\n"
     ]
    }
   ],
   "source": [
    "# 나이 순 정렬\n",
    "def test10():\n",
    "    attempts = int(input())\n",
    "    assign = []\n",
    "    for i in range(attempts):\n",
    "        target = input().split()\n",
    "        assign.append((int(target[0]), target[1]))\n",
    "\n",
    "    assign.sort(key=lambda x: x[0])\n",
    "\n",
    "    for a in assign:\n",
    "        print(f'{a[0]} {a[1]}')\n",
    "\n",
    "test10()"
   ]
  },
  {
   "cell_type": "code",
   "execution_count": 29,
   "metadata": {},
   "outputs": [
    {
     "name": "stdout",
     "output_type": "stream",
     "text": [
      "2 3 0 3 1 2 3 0 3 1\n"
     ]
    }
   ],
   "source": [
    "# 좌표압축\n",
    "def test11():\n",
    "    attempts = int(input())\n",
    "    coors = list(map(int,input().split()))\n",
    "    sorted_coors = sorted(coors)\n",
    "\n",
    "    for c in coors:\n",
    "        print(sorted_coors.index(c), end=' ')\n",
    "# test11()\n",
    "    \n",
    "\n",
    "# 시간 초과...ㅠㅠㅠ\n",
    "# 왜지...?\n",
    "\n",
    "def test11():\n",
    "    attempts = int(input())\n",
    "    coors = list(map(int, input().split()))\n",
    "    \n",
    "    # 중복 제거 후 정렬\n",
    "    sorted_coors = sorted(set(coors))\n",
    "    \n",
    "    # 좌표 값에 인덱스 매핑\n",
    "    index_map = {value: index for index, value in enumerate(sorted_coors)}\n",
    "    \n",
    "    # 원래 좌표에 대해 매핑된 인덱스를 출력\n",
    "    compressed_coors = [index_map[c] for c in coors]\n",
    "    \n",
    "    print(*compressed_coors)\n",
    "\n",
    "test11()\n"
   ]
  }
 ],
 "metadata": {
  "kernelspec": {
   "display_name": "base",
   "language": "python",
   "name": "python3"
  },
  "language_info": {
   "codemirror_mode": {
    "name": "ipython",
    "version": 3
   },
   "file_extension": ".py",
   "mimetype": "text/x-python",
   "name": "python",
   "nbconvert_exporter": "python",
   "pygments_lexer": "ipython3",
   "version": "3.12.4"
  }
 },
 "nbformat": 4,
 "nbformat_minor": 2
}
