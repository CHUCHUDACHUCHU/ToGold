{
 "cells": [
  {
   "cell_type": "code",
   "execution_count": 3,
   "metadata": {},
   "outputs": [],
   "source": [
    "#step6"
   ]
  },
  {
   "cell_type": "code",
   "execution_count": 10,
   "metadata": {},
   "outputs": [
    {
     "name": "stdout",
     "output_type": "stream",
     "text": [
      "         ,r'\"7\n",
      "r`-_   ,'  ,/\n",
      " \\. \". L_r'\n",
      "   `~\\/\n",
      "      |\n",
      "      |\n"
     ]
    }
   ],
   "source": [
    "def sprout():\n",
    "    print('         ,r\\'\"7')\n",
    "    print('r`-_   ,\\'  ,/')\n",
    "    print(' \\\\. \". L_r\\'')\n",
    "    print('   `~\\\\/')\n",
    "    print('      |')\n",
    "    print('      |')\n",
    "\n",
    "sprout()"
   ]
  },
  {
   "cell_type": "code",
   "execution_count": 11,
   "metadata": {},
   "outputs": [
    {
     "name": "stdout",
     "output_type": "stream",
     "text": [
      "100001"
     ]
    }
   ],
   "source": [
    "def chess():\n",
    "    chess_table = [1,1,2,2,2,8]\n",
    "    input_num = map(int, input().split())\n",
    "    result = []\n",
    "    for i,v in enumerate(input_num):\n",
    "        result.append(chess_table[i] - v)\n",
    "    for i in result:\n",
    "        print(i, end=' ')\n",
    "\n",
    "chess()"
   ]
  },
  {
   "cell_type": "code",
   "execution_count": 30,
   "metadata": {},
   "outputs": [
    {
     "name": "stdout",
     "output_type": "stream",
     "text": [
      "    *\n",
      "   ***\n",
      "  *****\n",
      " *******\n",
      "*********\n",
      " *******\n",
      "  *****\n",
      "   ***\n",
      "    *\n"
     ]
    }
   ],
   "source": [
    "def drawStar():\n",
    "    attempts = int(input())\n",
    "    for i,v in enumerate(reversed(range(1, attempts))):\n",
    "        draw = ' '*v + '*'*(2*i+1)\n",
    "        print(draw)\n",
    "    print('*'*(2*attempts-1))\n",
    "    for i,v in enumerate(reversed(range(1, attempts))):\n",
    "        draw = ' '*(i+1) + '*'*(2*v-1)\n",
    "        print(draw)\n",
    "        \n",
    "drawStar()"
   ]
  },
  {
   "cell_type": "code",
   "execution_count": 41,
   "metadata": {},
   "outputs": [
    {
     "name": "stdout",
     "output_type": "stream",
     "text": [
      "1\n"
     ]
    }
   ],
   "source": [
    "def palindrome():\n",
    "    input_str = input()\n",
    "    print(1 if input_str == input_str[::-1] else 0)\n",
    "\n",
    "palindrome()"
   ]
  },
  {
   "cell_type": "code",
   "execution_count": 60,
   "metadata": {},
   "outputs": [
    {
     "name": "stdout",
     "output_type": "stream",
     "text": [
      "Z\n"
     ]
    }
   ],
   "source": [
    "from collections import Counter\n",
    "\n",
    "def test():\n",
    "    input_str = input().lower()\n",
    "    count_str = Counter(input_str)\n",
    "    print('?' if (len(count_str) > 1) and (count_str.most_common()[0][1] == count_str.most_common()[1][1]) else count_str.most_common()[0][0].upper())\n",
    "\n",
    "test()"
   ]
  },
  {
   "cell_type": "code",
   "execution_count": 71,
   "metadata": {},
   "outputs": [
    {
     "name": "stdout",
     "output_type": "stream",
     "text": [
      "3\n"
     ]
    }
   ],
   "source": [
    "def croatia():\n",
    "    cro = ['c=', 'c-', 'dz=', 'd-', 'lj', 'nj', 's=', 'z=']\n",
    "    input_str = input()\n",
    "    for c in cro:\n",
    "        if c in input_str:\n",
    "            input_str = input_str.replace(c, '*')\n",
    "    print(len(input_str))\n",
    "\n",
    "croatia()"
   ]
  },
  {
   "cell_type": "code",
   "execution_count": 92,
   "metadata": {},
   "outputs": [
    {
     "name": "stdout",
     "output_type": "stream",
     "text": [
      "2\n"
     ]
    }
   ],
   "source": [
    "def groupWordChecker():\n",
    "    attempts = int(input())\n",
    "    result = 0\n",
    "    for i in range(attempts):\n",
    "        input_str = input()\n",
    "        checker = []\n",
    "        for s in input_str:\n",
    "            if s not in checker or (checker[-1] == s):\n",
    "                checker.append(s)\n",
    "            else:\n",
    "                break\n",
    "        else:\n",
    "            result += 1\n",
    "    print(result)\n",
    "    \n",
    "groupWordChecker()"
   ]
  },
  {
   "cell_type": "code",
   "execution_count": 100,
   "metadata": {},
   "outputs": [
    {
     "ename": "ValueError",
     "evalue": "too many values to unpack (expected 3)",
     "output_type": "error",
     "traceback": [
      "\u001b[1;31m---------------------------------------------------------------------------\u001b[0m",
      "\u001b[1;31mValueError\u001b[0m                                Traceback (most recent call last)",
      "Cell \u001b[1;32mIn[100], line 22\u001b[0m\n\u001b[0;32m     19\u001b[0m         \u001b[38;5;28;01melse\u001b[39;00m: \u001b[38;5;28;01mcontinue\u001b[39;00m\n\u001b[0;32m     20\u001b[0m     \u001b[38;5;28mprint\u001b[39m(total_score\u001b[38;5;241m/\u001b[39mtotal_subject)\n\u001b[1;32m---> 22\u001b[0m \u001b[43mscore\u001b[49m\u001b[43m(\u001b[49m\u001b[43m)\u001b[49m\n",
      "Cell \u001b[1;32mIn[100], line 14\u001b[0m, in \u001b[0;36mscore\u001b[1;34m()\u001b[0m\n\u001b[0;32m     12\u001b[0m total_score \u001b[38;5;241m=\u001b[39m \u001b[38;5;241m0\u001b[39m\n\u001b[0;32m     13\u001b[0m \u001b[38;5;28;01mfor\u001b[39;00m i \u001b[38;5;129;01min\u001b[39;00m \u001b[38;5;28mrange\u001b[39m(\u001b[38;5;241m20\u001b[39m):\n\u001b[1;32m---> 14\u001b[0m     subject, init, score \u001b[38;5;241m=\u001b[39m \u001b[38;5;28minput\u001b[39m()\u001b[38;5;241m.\u001b[39msplit()\n\u001b[0;32m     15\u001b[0m     \u001b[38;5;28mprint\u001b[39m(init, score)\n\u001b[0;32m     16\u001b[0m     \u001b[38;5;28;01mif\u001b[39;00m(score \u001b[38;5;129;01mnot\u001b[39;00m \u001b[38;5;129;01min\u001b[39;00m [\u001b[38;5;124m'\u001b[39m\u001b[38;5;124mP\u001b[39m\u001b[38;5;124m'\u001b[39m]):\n",
      "\u001b[1;31mValueError\u001b[0m: too many values to unpack (expected 3)"
     ]
    }
   ],
   "source": [
    "def score():\n",
    "    table = {'A+':4.5,\n",
    "             'A0':4.0,\n",
    "             'B+':3.5,\n",
    "             'B0':3.0,\n",
    "             'C+':2.5,\n",
    "             'C0':2.0,\n",
    "             'D+':1.5,\n",
    "             'D0':1.0,\n",
    "             'F':0.0,}\n",
    "    total_subject = 0\n",
    "    total_score = 0\n",
    "    for i in range(20):\n",
    "        subject, init, score = input().split()\n",
    "        if(score not in ['P']):\n",
    "            total_subject += float(init)\n",
    "            total_score += table[score]*float(init)\n",
    "        else: continue\n",
    "    print(total_score/total_subject)\n",
    "\n",
    "score()\n"
   ]
  },
  {
   "cell_type": "code",
   "execution_count": 104,
   "metadata": {},
   "outputs": [
    {
     "name": "stdout",
     "output_type": "stream",
     "text": [
      "3.2844827586206895\n"
     ]
    }
   ],
   "source": [
    "data = \"\"\"ObjectOrientedProgramming1 3.0 A+\n",
    "IntroductiontoComputerEngineering 3.0 A+\n",
    "ObjectOrientedProgramming2 3.0 A0\n",
    "CreativeComputerEngineeringDesign 3.0 A+\n",
    "AssemblyLanguage 3.0 A+\n",
    "InternetProgramming 3.0 B0\n",
    "ApplicationProgramminginJava 3.0 A0\n",
    "SystemProgramming 3.0 B0\n",
    "OperatingSystem 3.0 B0\n",
    "WirelessCommunicationsandNetworking 3.0 C+\n",
    "LogicCircuits 3.0 B0\n",
    "DataStructure 4.0 A+\n",
    "MicroprocessorApplication 3.0 B+\n",
    "EmbeddedSoftware 3.0 C0\n",
    "ComputerSecurity 3.0 D+\n",
    "Database 3.0 C+\n",
    "Algorithm 3.0 B0\n",
    "CapstoneDesigninCSE 3.0 B+\n",
    "CompilerDesign 3.0 D0\n",
    "ProblemSolving 4.0 P\"\"\"\n",
    "\n",
    "# 각 줄을 분리하여 처리\n",
    "subjects = []\n",
    "for line in data.splitlines():\n",
    "    parts = line.split()\n",
    "    subject_name = \" \".join(parts[:-2])  # 과목명\n",
    "    credit = float(parts[-2])  # 학점\n",
    "    grade = parts[-1]  # 성적\n",
    "    subjects.append((subject_name, credit, grade))\n",
    "\n",
    "table = {'A+':4.5,\n",
    "             'A0':4.0,\n",
    "             'B+':3.5,\n",
    "             'B0':3.0,\n",
    "             'C+':2.5,\n",
    "             'C0':2.0,\n",
    "             'D+':1.5,\n",
    "             'D0':1.0,\n",
    "             'F':0.0,}\n",
    "total_subject = 0\n",
    "total_score = 0\n",
    "# 확인\n",
    "for s in subjects:\n",
    "    subject, init, score = s\n",
    "    if(score not in ['P']):\n",
    "        total_subject += float(init)\n",
    "        total_score += table[score]*float(init)\n",
    "    else: continue\n",
    "print(total_score/total_subject)\n"
   ]
  },
  {
   "cell_type": "code",
   "execution_count": null,
   "metadata": {},
   "outputs": [],
   "source": []
  }
 ],
 "metadata": {
  "kernelspec": {
   "display_name": "Python 3",
   "language": "python",
   "name": "python3"
  },
  "language_info": {
   "codemirror_mode": {
    "name": "ipython",
    "version": 3
   },
   "file_extension": ".py",
   "mimetype": "text/x-python",
   "name": "python",
   "nbconvert_exporter": "python",
   "pygments_lexer": "ipython3",
   "version": "3.12.6"
  }
 },
 "nbformat": 4,
 "nbformat_minor": 2
}
