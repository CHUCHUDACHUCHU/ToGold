{
 "cells": [
  {
   "cell_type": "code",
   "execution_count": null,
   "metadata": {},
   "outputs": [],
   "source": [
    "#step5"
   ]
  },
  {
   "cell_type": "code",
   "execution_count": 1,
   "metadata": {},
   "outputs": [
    {
     "name": "stdout",
     "output_type": "stream",
     "text": [
      "j\n"
     ]
    }
   ],
   "source": [
    "def findStr():\n",
    "    input_str = input()\n",
    "    idx = int(input())\n",
    "    print(input_str[idx-1])\n",
    "\n",
    "findStr()"
   ]
  },
  {
   "cell_type": "code",
   "execution_count": 3,
   "metadata": {},
   "outputs": [
    {
     "name": "stdout",
     "output_type": "stream",
     "text": [
      "10\n"
     ]
    }
   ],
   "source": [
    "def returnStrLength():\n",
    "    input_str = input()\n",
    "    print(len(input_str))\n",
    "\n",
    "\n",
    "returnStrLength()"
   ]
  },
  {
   "cell_type": "code",
   "execution_count": 9,
   "metadata": {},
   "outputs": [
    {
     "name": "stdout",
     "output_type": "stream",
     "text": [
      "af\n"
     ]
    }
   ],
   "source": [
    "def assembleStr():\n",
    "    trial = int(input())\n",
    "    for i in range(trial):\n",
    "        input_str = input()\n",
    "        print(input_str[0] + input_str[-1])\n",
    "\n",
    "assembleStr()"
   ]
  },
  {
   "cell_type": "code",
   "execution_count": 28,
   "metadata": {},
   "outputs": [
    {
     "name": "stdout",
     "output_type": "stream",
     "text": [
      "65\n"
     ]
    }
   ],
   "source": [
    "def strTochr():\n",
    "    input_str = input()\n",
    "    print(ord(input_str))\n",
    "\n",
    "strTochr()"
   ]
  },
  {
   "cell_type": "code",
   "execution_count": 40,
   "metadata": {},
   "outputs": [
    {
     "name": "stdout",
     "output_type": "stream",
     "text": [
      "25\n"
     ]
    }
   ],
   "source": [
    "def totalSum():\n",
    "    input_len = input()\n",
    "    input_num = input()\n",
    "    print(sum(list(map(int, input_num))))\n",
    "\n",
    "totalSum()"
   ]
  },
  {
   "cell_type": "code",
   "execution_count": 48,
   "metadata": {},
   "outputs": [
    {
     "name": "stdout",
     "output_type": "stream",
     "text": [
      "-1 -1 -1 2 -1 4 -1 -1 -1 3 5 -1 -1 -1 -1 -1 -1 -1 1 -1 -1 -1 -1 -1 -1 -1 "
     ]
    }
   ],
   "source": [
    "def alphaLocation():\n",
    "    alpha = [chr(i) for i in range(97, 123)]\n",
    "    input_str = input().lower()\n",
    "    positions = []\n",
    "\n",
    "    for char in alpha:\n",
    "        if char in input_str:\n",
    "            positions.append(input_str.index(char))\n",
    "        else:\n",
    "            positions.append(-1) \n",
    "    for i in positions:\n",
    "        print(i, end=' ')\n",
    "\n",
    "alphaLocation()"
   ]
  },
  {
   "cell_type": "code",
   "execution_count": 52,
   "metadata": {},
   "outputs": [
    {
     "name": "stdout",
     "output_type": "stream",
     "text": [
      "jjjkkkkkksss\n",
      "iiidddfffjjj\n"
     ]
    }
   ],
   "source": [
    "def iterateStr():\n",
    "    attemps = int(input())\n",
    "    for i in range(attemps):\n",
    "        count, input_str = input().split()\n",
    "        for s in input_str:\n",
    "            print(s*int(count), end='')\n",
    "        print()\n",
    "\n",
    "iterateStr()"
   ]
  },
  {
   "cell_type": "code",
   "execution_count": 56,
   "metadata": {},
   "outputs": [
    {
     "name": "stdout",
     "output_type": "stream",
     "text": [
      "6\n"
     ]
    }
   ],
   "source": [
    "def countSpace():\n",
    "    input_str = input().split()\n",
    "    print(len(input_str))\n",
    "\n",
    "countSpace()"
   ]
  },
  {
   "cell_type": "code",
   "execution_count": 65,
   "metadata": {},
   "outputs": [
    {
     "name": "stdout",
     "output_type": "stream",
     "text": [
      "437\n"
     ]
    }
   ],
   "source": [
    "def idiot():\n",
    "    a,b = input().split()\n",
    "    for i,v in enumerate(a[::-1]):\n",
    "        if (v == b[-(i+1)]):\n",
    "            continue\n",
    "        elif (v > b[-(i+1)]):\n",
    "            print(a[::-1])\n",
    "            break\n",
    "        else:\n",
    "            print(b[::-1])\n",
    "            break\n",
    "\n",
    "idiot()"
   ]
  },
  {
   "cell_type": "code",
   "execution_count": 70,
   "metadata": {},
   "outputs": [
    {
     "name": "stdout",
     "output_type": "stream",
     "text": [
      "2\n"
     ]
    }
   ],
   "source": [
    "def telephone():\n",
    "    table = {'ABC': 2, 'DEF':3, 'GHI':4, 'JKL':5, 'MNO':6, 'PQRS':7, 'TUV':8, 'WXYZ':9}\n",
    "    input_str = input()\n",
    "    result = 0\n",
    "    for s in table:\n",
    "        for c in input_str:\n",
    "            if c in s:\n",
    "                result += table[s]\n",
    "    print(result + len(input_str))\n",
    "\n",
    "telephone()\n"
   ]
  },
  {
   "cell_type": "code",
   "execution_count": null,
   "metadata": {},
   "outputs": [],
   "source": [
    "import sys\n",
    "\n",
    "user_input = sys.stdin.read()\n",
    "print(user_input)\n"
   ]
  },
  {
   "cell_type": "code",
   "execution_count": null,
   "metadata": {},
   "outputs": [],
   "source": []
  }
 ],
 "metadata": {
  "kernelspec": {
   "display_name": "base",
   "language": "python",
   "name": "python3"
  },
  "language_info": {
   "codemirror_mode": {
    "name": "ipython",
    "version": 3
   },
   "file_extension": ".py",
   "mimetype": "text/x-python",
   "name": "python",
   "nbconvert_exporter": "python",
   "pygments_lexer": "ipython3",
   "version": "3.12.4"
  }
 },
 "nbformat": 4,
 "nbformat_minor": 2
}
