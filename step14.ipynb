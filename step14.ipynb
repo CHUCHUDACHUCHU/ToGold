{
 "cells": [
  {
   "cell_type": "code",
   "execution_count": null,
   "metadata": {},
   "outputs": [],
   "source": [
    "# step14 : 집합과맵\n",
    "# ver : 2024-10-29 10:08"
   ]
  },
  {
   "cell_type": "code",
   "execution_count": 5,
   "metadata": {},
   "outputs": [
    {
     "ename": "ValueError",
     "evalue": "invalid literal for int() with base 10: ''",
     "output_type": "error",
     "traceback": [
      "\u001b[1;31m---------------------------------------------------------------------------\u001b[0m",
      "\u001b[1;31mValueError\u001b[0m                                Traceback (most recent call last)",
      "Cell \u001b[1;32mIn[5], line 16\u001b[0m\n\u001b[0;32m     13\u001b[0m         \u001b[38;5;28;01melse\u001b[39;00m:\n\u001b[0;32m     14\u001b[0m             \u001b[38;5;28mprint\u001b[39m(\u001b[38;5;241m0\u001b[39m, end\u001b[38;5;241m=\u001b[39m\u001b[38;5;124m'\u001b[39m\u001b[38;5;124m \u001b[39m\u001b[38;5;124m'\u001b[39m)\n\u001b[1;32m---> 16\u001b[0m test()\n",
      "Cell \u001b[1;32mIn[5], line 4\u001b[0m, in \u001b[0;36mtest\u001b[1;34m()\u001b[0m\n\u001b[0;32m      3\u001b[0m \u001b[38;5;28;01mdef\u001b[39;00m \u001b[38;5;21mtest\u001b[39m():\n\u001b[1;32m----> 4\u001b[0m     n \u001b[38;5;241m=\u001b[39m \u001b[38;5;28mint\u001b[39m(\u001b[38;5;28minput\u001b[39m())\n\u001b[0;32m      5\u001b[0m     arr \u001b[38;5;241m=\u001b[39m \u001b[38;5;28mset\u001b[39m([\u001b[38;5;241m*\u001b[39m\u001b[38;5;28mmap\u001b[39m(\u001b[38;5;28mint\u001b[39m, \u001b[38;5;28minput\u001b[39m()\u001b[38;5;241m.\u001b[39msplit())])\n\u001b[0;32m      6\u001b[0m     m \u001b[38;5;241m=\u001b[39m \u001b[38;5;28mint\u001b[39m(\u001b[38;5;28minput\u001b[39m())\n",
      "\u001b[1;31mValueError\u001b[0m: invalid literal for int() with base 10: ''"
     ]
    }
   ],
   "source": [
    "# 1\n",
    "from collections import deque\n",
    "def test():\n",
    "    n = int(input())\n",
    "    arr = set([*map(int, input().split())])\n",
    "    m = int(input())\n",
    "    target = deque([*map(int, input().split())])\n",
    "\n",
    "    while target:\n",
    "        x = target.popleft()\n",
    "        if x in arr:\n",
    "            print(1, end=' ')\n",
    "        else:\n",
    "            print(0, end=' ')\n",
    "\n",
    "test()\n",
    "\n",
    "# 안에 있는지 확인할 때는!!!\n",
    "# set으로 중복을 줄여놓고 확인하는게 시간절약!"
   ]
  },
  {
   "cell_type": "code",
   "execution_count": 6,
   "metadata": {},
   "outputs": [
    {
     "name": "stdout",
     "output_type": "stream",
     "text": [
      "4\n"
     ]
    }
   ],
   "source": [
    "# 2\n",
    "import sys\n",
    "def test():\n",
    "    n, m = map(int, input().split())\n",
    "    arr = [input() for _ in range(n)]\n",
    "    target = [input() for _ in range(m)]\n",
    "    # with open('input.txt', 'r') as file:\n",
    "    #     n, m = map(int, file.readline().split())\n",
    "    #     arr = [file.readline() for _ in range(n)]\n",
    "    #     target = [file.readline() for _ in range(m)]\n",
    "    result = 0\n",
    "    for t in target:\n",
    "        if t in arr:\n",
    "            result += 1\n",
    "    print(result)\n",
    "\n",
    "test()"
   ]
  },
  {
   "cell_type": "code",
   "execution_count": null,
   "metadata": {},
   "outputs": [],
   "source": [
    "import sys\n",
    "\n",
    "def test():\n",
    "    counts = int(sys.stdin.readline().strip())\n",
    "    target = [sys.stdin.readline().strip().split() for _ in range(counts)]\n",
    "    office = set()\n",
    "\n",
    "    for t in target:\n",
    "        if t[1] == 'enter':\n",
    "            office.add(t[0])\n",
    "        else:\n",
    "            office.discard(t[0])\n",
    "\n",
    "    office = sorted(office, reverse=True)\n",
    "    for p in office:\n",
    "        print(p)\n",
    "\n",
    "test()\n",
    "\n",
    "# 배열 remove()는 O(n)임\n",
    "# 따라서 10^6인 조건에서\n",
    "# for문 내 remove는 (n^2)에 해당함\n",
    "# 따라서 in 확인할 때는 set!!!"
   ]
  },
  {
   "cell_type": "code",
   "execution_count": 1,
   "metadata": {},
   "outputs": [
    {
     "name": "stdout",
     "output_type": "stream",
     "text": [
      "Pikachu\n",
      "26\n",
      "Venusaur\n",
      "16\n",
      "14\n"
     ]
    }
   ],
   "source": [
    "# 4\n",
    "import sys\n",
    "def test():\n",
    "    n, m = map(int, sys.stdin.readline().strip().split())\n",
    "    pockets = dict()\n",
    "    value_to_key = dict()\n",
    "    for i in range(n):\n",
    "        key = sys.stdin.readline().strip()\n",
    "        pockets[key] = i+1\n",
    "        value_to_key[i+1] = key\n",
    "    target = [sys.stdin.readline().strip() for _ in range(m)]\n",
    "    # with open('input.txt', 'r') as file:\n",
    "    #     n, m = map(int, file.readline().strip().split())\n",
    "    #     pockets = dict()\n",
    "    #     for i in range(n):\n",
    "    #         pockets[file.readline().strip()] = i+1\n",
    "    #     target = [file.readline().strip() for _ in range(m)]\n",
    "    \n",
    "    for t in target:\n",
    "        if t.isdigit():\n",
    "            print(value_to_key[int(t)])\n",
    "        else:\n",
    "            print(pockets[t])\n",
    "# test()\n",
    "\n",
    "def test():\n",
    "    with open('input.txt', 'r') as file:\n",
    "        n, m = map(int, file.readline().strip().split())\n",
    "        pockets = {}\n",
    "        value_to_key = {}  # 값 -> 키 매핑을 위한 딕셔너리\n",
    "        \n",
    "        for i in range(n):\n",
    "            key = file.readline().strip()\n",
    "            pockets[key] = i + 1\n",
    "            value_to_key[i + 1] = key  # 값에 대한 키 매핑 추가\n",
    "\n",
    "        target = [file.readline().strip() for _ in range(m)]\n",
    "    \n",
    "    for t in target:\n",
    "        if t.isdigit():  # 숫자인 경우\n",
    "            number = int(t)\n",
    "            if number in value_to_key:  # 해당 숫자가 존재하는지 확인\n",
    "                print(value_to_key[number])\n",
    "        else:  # 문자열인 경우\n",
    "            if t in pockets:  # 키가 존재하는지 확인\n",
    "                print(pockets[t])\n",
    "\n",
    "test()\n",
    "\n",
    "# 결국 value로 key 찾는 것도 dict로 빼놓으면 되잖아!!!"
   ]
  },
  {
   "cell_type": "code",
   "execution_count": 2,
   "metadata": {},
   "outputs": [
    {
     "name": "stdout",
     "output_type": "stream",
     "text": [
      "3 0 0 1 2 0 0 2 "
     ]
    }
   ],
   "source": [
    "# 5 숫자카드2\n",
    "def test():\n",
    "    n = int(input())\n",
    "    arr = [*map(int, input().split())]\n",
    "    m = int(input())\n",
    "    target = [*map(int, input().split())]\n",
    "\n",
    "    myDict = {}\n",
    "    for a in arr:\n",
    "        if a in myDict:\n",
    "            myDict[a] += 1\n",
    "        else:\n",
    "            myDict[a] = 1\n",
    "\n",
    "    for t in target:\n",
    "        if t in myDict:\n",
    "            print(myDict[t], end=' ')\n",
    "        else:\n",
    "            print(0, end=' ')\n",
    "test()"
   ]
  },
  {
   "cell_type": "code",
   "execution_count": null,
   "metadata": {},
   "outputs": [
    {
     "name": "stdout",
     "output_type": "stream",
     "text": [
      "2\n",
      "baesangwook\n",
      "ohhenrie\n"
     ]
    }
   ],
   "source": [
    "# 6 듣보잡\n",
    "import sys\n",
    "def test():\n",
    "    n,m = map(int, input().split())\n",
    "    g1 = {input() for _ in range(n)}\n",
    "    g2 = {input() for _ in range(m)}\n",
    "    # with open('input.txt', 'r') as file:\n",
    "    #     n, m = map(int, file.readline().strip().split())\n",
    "    #     g1 = {file.readline().strip() for _ in range(n)}\n",
    "    #     g2 = {file.readline().strip() for _ in range(m)}\n",
    "\n",
    "    result = g1 & g2\n",
    "\n",
    "    print(len(result))\n",
    "    result = sorted(result)\n",
    "    for v in result:\n",
    "        print(v)\n",
    "test()"
   ]
  },
  {
   "cell_type": "code",
   "execution_count": 12,
   "metadata": {},
   "outputs": [
    {
     "name": "stdout",
     "output_type": "stream",
     "text": [
      "4\n"
     ]
    }
   ],
   "source": [
    "# 7: 대칭 차집합\n",
    "def test():\n",
    "    n, m = map(int, input().split())\n",
    "    n1 = {*map(int, input().split())}\n",
    "    m1 = {*map(int, input().split())}\n",
    "\n",
    "    print(n+m - 2*(len(n1&m1)))\n",
    "test()"
   ]
  },
  {
   "cell_type": "code",
   "execution_count": null,
   "metadata": {},
   "outputs": [
    {
     "name": "stdout",
     "output_type": "stream",
     "text": [
      "['a', 's', 'd', 'f']\n"
     ]
    }
   ],
   "source": [
    "# 8: 서로 다른 부분문자열\n",
    "def test():\n",
    "    s = list(input())\n",
    "    \n",
    "    for i,v in s[:-1]:\n",
    "        \n",
    "    \n",
    "    print(s)\n",
    "test()"
   ]
  },
  {
   "cell_type": "code",
   "execution_count": null,
   "metadata": {},
   "outputs": [
    {
     "name": "stdout",
     "output_type": "stream",
     "text": [
      "{'', 'a', 'bc', 'abab', 'babc', 'ababc', 'c', 'ab', 'bab', 'abc', 'aba', 'b', 'ba'}\n",
      "13\n"
     ]
    }
   ],
   "source": [
    "# 8 서로 다른 부분문자열\n",
    "def test():\n",
    "    result = set()\n",
    "    s = input()\n",
    "    l = len(s)\n",
    "    for i in range(l):\n",
    "        for j in range(l):\n",
    "            result.add(s[i:j+1])\n",
    "\n",
    "    print(len(result)-1)\n",
    "test()"
   ]
  },
  {
   "cell_type": "code",
   "execution_count": 17,
   "metadata": {},
   "outputs": [
    {
     "data": {
      "text/plain": [
       "'ㅁ'"
      ]
     },
     "execution_count": 17,
     "metadata": {},
     "output_type": "execute_result"
    }
   ],
   "source": [
    "x= 'ㅁㄴㅇㄹ'\n",
    "x[0:1]"
   ]
  }
 ],
 "metadata": {
  "kernelspec": {
   "display_name": "base",
   "language": "python",
   "name": "python3"
  },
  "language_info": {
   "codemirror_mode": {
    "name": "ipython",
    "version": 3
   },
   "file_extension": ".py",
   "mimetype": "text/x-python",
   "name": "python",
   "nbconvert_exporter": "python",
   "pygments_lexer": "ipython3",
   "version": "3.12.4"
  }
 },
 "nbformat": 4,
 "nbformat_minor": 2
}
