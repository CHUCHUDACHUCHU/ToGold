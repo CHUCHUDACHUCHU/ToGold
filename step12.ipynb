{
 "cells": [
  {
   "cell_type": "code",
   "execution_count": null,
   "metadata": {},
   "outputs": [],
   "source": [
    "# Brute Force\n",
    "# 완전탐색"
   ]
  },
  {
   "cell_type": "code",
   "execution_count": 49,
   "metadata": {},
   "outputs": [
    {
     "name": "stdout",
     "output_type": "stream",
     "text": [
      "497\n"
     ]
    }
   ],
   "source": [
    "# 블랙잭\n",
    "def test1():\n",
    "    attempts, target = map(int, input().split())\n",
    "    num_list = list(map(int,input().split()))\n",
    "    ans = 0\n",
    "    result = 0\n",
    "    for i in range(attempts-2):\n",
    "        for j in range(i+1, attempts-1):\n",
    "            for k in range(j+1,attempts):\n",
    "                ans = num_list[i] + num_list[j] + num_list[k]\n",
    "                print(ans, result)\n",
    "                if ans > result and ans <= target:\n",
    "                    result = ans\n",
    "    \n",
    "    print(result)\n",
    "\n",
    "# test1()\n",
    "\n",
    "# 블랙잭 itertools 이용\n",
    "from itertools import combinations\n",
    "def test1_1():\n",
    "    attempts, target = map(int, input().split())\n",
    "    num_list = map(int,input().split())\n",
    "    comb = combinations(num_list,3)\n",
    "    filtered_comb = filter(lambda x: sum(x)<=target, comb)\n",
    "    print(max(map(sum, filtered_comb)))\n",
    "    # print(max(i for i in map(sum,combinations(num_list,3)) if i<=target))\n",
    "\n",
    "test1_1()\n"
   ]
  },
  {
   "cell_type": "code",
   "execution_count": 60,
   "metadata": {},
   "outputs": [
    {
     "name": "stdout",
     "output_type": "stream",
     "text": [
      "0\n"
     ]
    }
   ],
   "source": [
    "#분해합...?\n",
    "def test2():\n",
    "    n = int(input())\n",
    "    for i in range(1, n):\n",
    "        result = i\n",
    "        temp = i\n",
    "        while temp > 0:\n",
    "            result += temp % 10\n",
    "            temp //= 10  \n",
    "        if result == n:\n",
    "            print(i)\n",
    "            break\n",
    "    else:\n",
    "        print(0)\n",
    "\n",
    "test2()\n"
   ]
  },
  {
   "cell_type": "code",
   "execution_count": 2,
   "metadata": {},
   "outputs": [
    {
     "name": "stdout",
     "output_type": "stream",
     "text": [
      "-1 2\n"
     ]
    }
   ],
   "source": [
    "# 수학은 비대면강의\n",
    "\n",
    "def test3():\n",
    "    a,b,c,d,e,f = map(int, input().split())\n",
    "    determinant = a * e - b * d\n",
    "    x = (c * e - b * f) // determinant\n",
    "    y = (a * f - d * c) // determinant\n",
    "\n",
    "    print(f'{x} {y}')\n",
    "\n",
    "test3()\n"
   ]
  },
  {
   "cell_type": "code",
   "execution_count": 35,
   "metadata": {},
   "outputs": [
    {
     "name": "stdout",
     "output_type": "stream",
     "text": [
      "12\n"
     ]
    }
   ],
   "source": [
    "# 체스...!!!\n",
    "# 문제를 잘 읽자!!!\n",
    "# 어휴..!!!\n",
    "# WBWBWB\n",
    "# BWBWBW\n",
    "# WBWBWB --- > list comprehension으로 가독성있게 빠르게!\n",
    "def test4():\n",
    "    with open('input.txt', 'r') as file:\n",
    "        n, m = map(int, file.readline().split())\n",
    "        chess = [file.readline().strip() for _ in range(n)]\n",
    "    \n",
    "    chessA = [['W' if (i + j) % 2 == 0 else 'B' for j in range(m)] for i in range(n)]\n",
    "    chessB = [['B' if (i + j) % 2 == 0 else 'W' for j in range(m)] for i in range(n)]\n",
    "\n",
    "    countA = []\n",
    "    countB = []\n",
    "    for i in range(n-7):\n",
    "        for j in range(m-7):\n",
    "            tempA = 0\n",
    "            tempB = 0\n",
    "            for k in range(8):\n",
    "                for l in range(8):\n",
    "                    if chess[i+k][j+l] != chessA[k][l]:\n",
    "                        tempA += 1\n",
    "                    if chess[i+k][j+l] != chessB[k][l]:\n",
    "                        tempB += 1\n",
    "            countA.append(tempA)\n",
    "            countB.append(tempB)\n",
    "    \n",
    "    print(min(min(countA), min(countB)))\n",
    "\n",
    "test4()\n"
   ]
  },
  {
   "cell_type": "code",
   "execution_count": 35,
   "metadata": {},
   "outputs": [
    {
     "name": "stdout",
     "output_type": "stream",
     "text": [
      "2666798\n"
     ]
    }
   ],
   "source": [
    "# 종말의 수 666\n",
    "def test5():\n",
    "    n = int(input())\n",
    "    start = 666\n",
    "    count = 0\n",
    "\n",
    "    while 1:\n",
    "        if count == n:\n",
    "            print(start-1)\n",
    "            break\n",
    "        if '666' in str(start):\n",
    "            count += 1\n",
    "        start += 1\n",
    "test5()"
   ]
  },
  {
   "cell_type": "code",
   "execution_count": 61,
   "metadata": {},
   "outputs": [
    {
     "name": "stdout",
     "output_type": "stream",
     "text": [
      "-1\n"
     ]
    }
   ],
   "source": [
    "# 설탕배달\n",
    "def test6():\n",
    "    n = int(input())\n",
    "    count = 0\n",
    "    while n>0:\n",
    "        if n%5==0:\n",
    "            print(n//5 + count)\n",
    "            return\n",
    "        else:\n",
    "            count += 1\n",
    "            n -= 3\n",
    "    else:\n",
    "        if n<0:\n",
    "            print(-1)\n",
    "        else:\n",
    "            print(count)\n",
    "\n",
    "\n",
    "test6()\n"
   ]
  },
  {
   "cell_type": "code",
   "execution_count": null,
   "metadata": {},
   "outputs": [],
   "source": []
  }
 ],
 "metadata": {
  "kernelspec": {
   "display_name": "base",
   "language": "python",
   "name": "python3"
  },
  "language_info": {
   "codemirror_mode": {
    "name": "ipython",
    "version": 3
   },
   "file_extension": ".py",
   "mimetype": "text/x-python",
   "name": "python",
   "nbconvert_exporter": "python",
   "pygments_lexer": "ipython3",
   "version": "3.12.4"
  }
 },
 "nbformat": 4,
 "nbformat_minor": 2
}
