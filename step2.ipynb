{
 "cells": [
  {
   "cell_type": "code",
   "execution_count": 2,
   "id": "50348885-1007-4c7c-ad7b-03f1531c6a4f",
   "metadata": {},
   "outputs": [],
   "source": [
    "#step2\n"
   ]
  },
  {
   "cell_type": "code",
   "execution_count": null,
   "id": "a4b380a8-9638-4f8a-8950-91fd1dad122e",
   "metadata": {},
   "outputs": [],
   "source": [
    "a,b = map(int, input().split())\n",
    "if(a > b) :\n",
    "    print('>')\n",
    "elif(a < b):\n",
    "    print('<')\n",
    "else:\n",
    "    print('==')\n",
    "        "
   ]
  },
  {
   "cell_type": "code",
   "execution_count": null,
   "id": "83fd2cde-002c-4dc2-b56f-21f92472852b",
   "metadata": {},
   "outputs": [],
   "source": [
    "def grade(score):\n",
    "    if 90 <= score <= 100:\n",
    "        return 'A'\n",
    "    elif 80 <= score < 90:\n",
    "        return 'B'\n",
    "    elif 70 <= score < 80:\n",
    "        return 'C'\n",
    "    elif 60 <= score < 70:\n",
    "        return 'D'\n",
    "    else:\n",
    "        return 'F'\n",
    "\n",
    "score = int(input())\n",
    "print(grade(score))"
   ]
  },
  {
   "cell_type": "code",
   "execution_count": null,
   "id": "67bbef25-d404-4e3d-a79b-e5df83e787ad",
   "metadata": {},
   "outputs": [],
   "source": [
    "def is_leap_year(year):\n",
    "    if (year % 4 == 0 and year % 100 != 0) or (year % 400 == 0):\n",
    "        return 1\n",
    "    else:\n",
    "        return 0\n",
    "\n",
    "year = int(input())\n",
    "print(is_leap_year(year))\n"
   ]
  },
  {
   "cell_type": "code",
   "execution_count": null,
   "id": "ae0e9d89-558a-4819-b42a-172ec9cac83c",
   "metadata": {},
   "outputs": [],
   "source": [
    "def find_quadrant(x, y):\n",
    "    if x > 0 and y > 0:\n",
    "        return 1\n",
    "    elif x < 0 and y > 0:\n",
    "        return 2\n",
    "    elif x < 0 and y < 0:\n",
    "        return 3\n",
    "    elif x > 0 and y < 0:\n",
    "        return 4\n",
    "\n",
    "x = int(input())\n",
    "y = int(input())\n",
    "\n",
    "print(find_quadrant(x,y))\n",
    "\n",
    "        "
   ]
  },
  {
   "cell_type": "code",
   "execution_count": null,
   "id": "f142e7a8-2657-4150-a4f8-7d8b528fa26c",
   "metadata": {},
   "outputs": [],
   "source": [
    "from datetime import datetime, timedelta\n",
    "\n",
    "def set_alarm(H, M):\n",
    "    alarm_time = datetime(2000, 1, 1, H, M) \n",
    "    new_alarm_time = alarm_time - timedelta(minutes=45)\n",
    "    \n",
    "    return new_alarm_time.hour, new_alarm_time.minute\n",
    "\n",
    "def set_alarm(H, M):\n",
    "    if M >= 45:\n",
    "        M -= 45\n",
    "    else:\n",
    "        M += 15 \n",
    "        if H == 0:\n",
    "            H = 23 \n",
    "        else:\n",
    "            H -= 1  \n",
    "    \n",
    "    return H, M\n",
    "\n",
    "H, M = map(int, input().split())\n",
    "\n",
    "new_H, new_M = set_alarm(H, M)\n",
    "print(new_H, new_M)\n",
    "\n",
    "new_H, new_M = set_alarm(H, M)\n",
    "print(new_H, new_M)\n"
   ]
  },
  {
   "cell_type": "code",
   "execution_count": null,
   "id": "9d8285e8-d676-4238-ba15-72fcb9f5210a",
   "metadata": {},
   "outputs": [],
   "source": [
    "def theOven(a,b,c):\n",
    "    total = a*60 + b + c\n",
    "    h = total//60%24\n",
    "    m = total%60\n",
    "    print(h,m)\n",
    "\n",
    "a,b = map(int, input().split())\n",
    "c = int(input())\n",
    "theOven(a,b,c)\n",
    "    "
   ]
  },
  {
   "cell_type": "code",
   "execution_count": null,
   "id": "3782f3c2-ab46-446a-a987-5f08f1cbdba4",
   "metadata": {},
   "outputs": [],
   "source": [
    "from collections import Counter\n",
    "\n",
    "def calculate_prize(dice):\n",
    "    counts = Counter(dice) \n",
    "    most_common = counts.most_common(1)[0] \n",
    "\n",
    "    print(counts)\n",
    "    print(counts.most_common())\n",
    "    print(counts.most_common()[0])\n",
    "\n",
    "    if most_common[1] == 3: \n",
    "        prize = 10000 + most_common[0] * 1000\n",
    "    elif most_common[1] == 2: \n",
    "        prize = 1000 + most_common[0] * 100\n",
    "    else: \n",
    "        prize = max(dice) * 100\n",
    "        \n",
    "    return prize\n",
    "\n",
    "dice = list(map(int, input().split()))\n",
    "prize = calculate_prize(dice)\n",
    "print(prize)"
   ]
  },
  {
   "cell_type": "code",
   "execution_count": null,
   "id": "3ac8d4f8-e8d3-4259-9ab0-4877e104ae40",
   "metadata": {},
   "outputs": [],
   "source": []
  },
  {
   "cell_type": "code",
   "execution_count": null,
   "id": "6e131548-be4f-44c4-8369-dc2553ac42e6",
   "metadata": {},
   "outputs": [],
   "source": []
  },
  {
   "cell_type": "code",
   "execution_count": null,
   "id": "ff3ec4fa-d4f6-4057-ad79-088f53c3742a",
   "metadata": {},
   "outputs": [],
   "source": []
  },
  {
   "cell_type": "code",
   "execution_count": null,
   "id": "f53ac5d3-c70c-4a17-8f1c-485ad30d9cda",
   "metadata": {},
   "outputs": [],
   "source": []
  },
  {
   "cell_type": "code",
   "execution_count": null,
   "id": "3ee51273-76e6-4b66-b42e-340300046220",
   "metadata": {},
   "outputs": [],
   "source": []
  },
  {
   "cell_type": "code",
   "execution_count": null,
   "id": "55957df5-7636-4c18-bb63-fcd7412c9125",
   "metadata": {},
   "outputs": [],
   "source": []
  },
  {
   "cell_type": "code",
   "execution_count": null,
   "id": "18c9404d-00d7-4061-b06d-93d7a07f42ee",
   "metadata": {},
   "outputs": [],
   "source": []
  },
  {
   "cell_type": "code",
   "execution_count": null,
   "id": "14b71b4a-8f50-44db-bbdc-1659a38f1902",
   "metadata": {},
   "outputs": [],
   "source": []
  },
  {
   "cell_type": "code",
   "execution_count": null,
   "id": "d0d6cf79-2f41-4e84-9e4a-e48a0b049ba2",
   "metadata": {},
   "outputs": [],
   "source": []
  },
  {
   "cell_type": "code",
   "execution_count": null,
   "id": "72e8708c-39c7-48dc-b6ae-60d55e7bc597",
   "metadata": {},
   "outputs": [],
   "source": []
  }
 ],
 "metadata": {
  "kernelspec": {
   "display_name": "Python 3 (ipykernel)",
   "language": "python",
   "name": "python3"
  },
  "language_info": {
   "codemirror_mode": {
    "name": "ipython",
    "version": 3
   },
   "file_extension": ".py",
   "mimetype": "text/x-python",
   "name": "python",
   "nbconvert_exporter": "python",
   "pygments_lexer": "ipython3",
   "version": "3.12.4"
  }
 },
 "nbformat": 4,
 "nbformat_minor": 5
}
