{
 "cells": [
  {
   "cell_type": "code",
   "execution_count": null,
   "metadata": {},
   "outputs": [],
   "source": [
    "# step9"
   ]
  },
  {
   "cell_type": "code",
   "execution_count": 3,
   "metadata": {},
   "outputs": [
    {
     "name": "stdout",
     "output_type": "stream",
     "text": [
      "factor\n",
      "multiple\n",
      "neither\n"
     ]
    }
   ],
   "source": [
    "def test1():\n",
    "    while 1:\n",
    "        a,b = map(int, input().split())\n",
    "        if(a==0 and b==0): break\n",
    "        if(a%b == 0):\n",
    "            print('multiple')\n",
    "        else:\n",
    "            if(b%a == 0):\n",
    "                print('factor')\n",
    "            else:\n",
    "                print('neither')\n",
    "\n",
    "test1()"
   ]
  },
  {
   "cell_type": "code",
   "execution_count": 8,
   "metadata": {},
   "outputs": [
    {
     "name": "stdout",
     "output_type": "stream",
     "text": [
      "0\n"
     ]
    }
   ],
   "source": [
    "def test2():\n",
    "    input_num, idx = map(int, input().split())\n",
    "    result = [i for i in range(1, input_num+1) if input_num%i==0]\n",
    "    print(result[idx-1]) if(len(result) >= idx ) else print(0)\n",
    "test2()"
   ]
  },
  {
   "cell_type": "code",
   "execution_count": 5,
   "metadata": {},
   "outputs": [
    {
     "name": "stdout",
     "output_type": "stream",
     "text": [
      "6 = 1 + 2 + 3\n",
      "12 is NOT perfect.\n",
      "18 is NOT perfect.\n",
      "28 = 1 + 2 + 4 + 7 + 14\n",
      "12 is NOT perfect.\n"
     ]
    }
   ],
   "source": [
    "def test3():\n",
    "    while 1:\n",
    "        input_num = int(input())\n",
    "        if(input_num == -1):\n",
    "            break\n",
    "        result_list = [i for i in range(1, input_num+1) if input_num%i==0]\n",
    "        if(sum(result_list[:-1]) == input_num):\n",
    "            print(f'{input_num} = {\" + \".join(map(str, result_list[:-1]))}')\n",
    "        else:\n",
    "            print(f'{input_num} is NOT perfect.')\n",
    "\n",
    "\n",
    "test3()"
   ]
  },
  {
   "cell_type": "code",
   "execution_count": 12,
   "metadata": {},
   "outputs": [
    {
     "name": "stdout",
     "output_type": "stream",
     "text": [
      "3\n"
     ]
    }
   ],
   "source": [
    "def test4():\n",
    "    attempts = int(input())\n",
    "    num_list = map(int, input().split())\n",
    "    result = 0\n",
    "\n",
    "    for i in num_list:\n",
    "        if i == 1:\n",
    "            continue\n",
    "        # 제곱근을 직접 계산하여 소수 판별\n",
    "        is_prime = True\n",
    "        for j in range(2, int(i**0.5) + 1):\n",
    "            if i % j == 0:\n",
    "                is_prime = False\n",
    "                break\n",
    "        if is_prime:\n",
    "            result += 1\n",
    "\n",
    "    print(result)\n",
    "\n",
    "test4()\n"
   ]
  },
  {
   "cell_type": "code",
   "execution_count": 17,
   "metadata": {},
   "outputs": [
    {
     "name": "stdout",
     "output_type": "stream",
     "text": [
      "-1\n"
     ]
    }
   ],
   "source": [
    "def test5():\n",
    "    start = int(input())\n",
    "    end = int(input())\n",
    "    result = []\n",
    "    \n",
    "    for i in range(start, end+1):\n",
    "        if i == 1:\n",
    "            continue\n",
    "        is_prime = True\n",
    "        for j in range(2, int(i**0.5) + 1):\n",
    "            if i % j == 0:\n",
    "                is_prime = False\n",
    "                break\n",
    "        if is_prime:\n",
    "            result.append(i)\n",
    "    \n",
    "    if result:\n",
    "        print(sum(result))\n",
    "        print(sorted(result)[0])\n",
    "    else:\n",
    "        print(-1)\n",
    "\n",
    "test5()\n"
   ]
  },
  {
   "cell_type": "code",
   "execution_count": 1,
   "metadata": {},
   "outputs": [
    {
     "name": "stdout",
     "output_type": "stream",
     "text": [
      "2\n",
      "2\n",
      "2\n",
      "3\n",
      "3\n"
     ]
    }
   ],
   "source": [
    "def test6():\n",
    "    N = int(input())\n",
    "    start = 1\n",
    "    result = []\n",
    "    while N > 1:\n",
    "        start += 1\n",
    "        if(N%start==0):\n",
    "            result.append(start)\n",
    "            N = N // start\n",
    "            start -= 1\n",
    "        else:\n",
    "            continue\n",
    "    for i in result:\n",
    "        print(i)\n",
    "\n",
    "test6()"
   ]
  }
 ],
 "metadata": {
  "kernelspec": {
   "display_name": "base",
   "language": "python",
   "name": "python3"
  },
  "language_info": {
   "codemirror_mode": {
    "name": "ipython",
    "version": 3
   },
   "file_extension": ".py",
   "mimetype": "text/x-python",
   "name": "python",
   "nbconvert_exporter": "python",
   "pygments_lexer": "ipython3",
   "version": "3.12.4"
  }
 },
 "nbformat": 4,
 "nbformat_minor": 2
}
