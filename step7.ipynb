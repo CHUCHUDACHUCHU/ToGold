{
 "cells": [
  {
   "cell_type": "code",
   "execution_count": 13,
   "metadata": {},
   "outputs": [
    {
     "name": "stdout",
     "output_type": "stream",
     "text": [
      "5 5 5\n",
      "7 7 7\n",
      "9 9 9\n"
     ]
    }
   ],
   "source": [
    "def matrixPlus():\n",
    "    x, y = map(int, input().split())\n",
    "    \n",
    "    A = [list(map(int, input().split())) for _ in range(x)]\n",
    "    B = [list(map(int, input().split())) for _ in range(x)]\n",
    "    \n",
    "    result = [[A[i][j] + B[i][j] for j in range(y)] for i in range(x)]\n",
    "    for row in result:\n",
    "        print(\" \".join(map(str, row)))\n",
    "\n",
    "matrixPlus()"
   ]
  },
  {
   "cell_type": "code",
   "execution_count": 14,
   "metadata": {},
   "outputs": [
    {
     "name": "stdout",
     "output_type": "stream",
     "text": [
      "90\n",
      "4 6\n"
     ]
    }
   ],
   "source": [
    "def matrixMax():\n",
    "    target = [list(map(int, input().split())) for _ in range(9)]\n",
    "    max = 0\n",
    "    location = [0,0]\n",
    "\n",
    "    for i in range(9):\n",
    "        for j in range(9):\n",
    "            if target[i][j] > max:\n",
    "                max = target[i][j]\n",
    "                location = [i,j]\n",
    "            else:\n",
    "                continue\n",
    "    print(max)\n",
    "    print(f'{location[0]+1} {location[1]+1}')\n",
    "\n",
    "matrixMax()\n"
   ]
  },
  {
   "cell_type": "code",
   "execution_count": 16,
   "metadata": {},
   "outputs": [
    {
     "name": "stdout",
     "output_type": "stream",
     "text": [
      "Aa0aPAf985Bz1EhCz2W3D1gkD6x\n"
     ]
    }
   ],
   "source": [
    "def colPlus():\n",
    "    target = [input() for _ in range(5)]\n",
    "    result = ''\n",
    "    for i in range(15):\n",
    "        for v in target:\n",
    "            if(i <= len(v)-1):\n",
    "                result += v[i]\n",
    "    print(result)\n",
    "\n",
    "colPlus()"
   ]
  },
  {
   "cell_type": "code",
   "execution_count": null,
   "metadata": {},
   "outputs": [],
   "source": [
    "def colorPaper():\n",
    "    n = int(input())\n",
    "    arr = [[0] * 100 for _ in range(100)]\n",
    "\n",
    "    for _ in range(n):\n",
    "        x, y = map(int, input().split())\n",
    "\n",
    "        for i in range(x, x + 10):\n",
    "            for j in range(y, y + 10):\n",
    "                arr[i][j] = 1\n",
    "\n",
    "    total = 0\n",
    "    for k in range(100):\n",
    "        total += arr[k].count(1)\n",
    "    print(total)\n",
    "\n",
    "colorPaper()"
   ]
  }
 ],
 "metadata": {
  "kernelspec": {
   "display_name": "Python 3",
   "language": "python",
   "name": "python3"
  },
  "language_info": {
   "codemirror_mode": {
    "name": "ipython",
    "version": 3
   },
   "file_extension": ".py",
   "mimetype": "text/x-python",
   "name": "python",
   "nbconvert_exporter": "python",
   "pygments_lexer": "ipython3",
   "version": "3.12.6"
  }
 },
 "nbformat": 4,
 "nbformat_minor": 2
}
