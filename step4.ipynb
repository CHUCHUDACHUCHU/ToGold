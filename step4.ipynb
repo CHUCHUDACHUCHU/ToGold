{
 "cells": [
  {
   "cell_type": "code",
   "execution_count": null,
   "metadata": {},
   "outputs": [],
   "source": [
    "#step4"
   ]
  },
  {
   "cell_type": "code",
   "execution_count": 17,
   "metadata": {},
   "outputs": [
    {
     "name": "stdout",
     "output_type": "stream",
     "text": [
      "1\n"
     ]
    }
   ],
   "source": [
    "def findNumberCount():\n",
    "    numbers_count = input().split()\n",
    "    target = str(input())\n",
    "    print(numbers_count.count(target))\n",
    "\n",
    "attempts = int(input())\n",
    "findNumberCount()"
   ]
  },
  {
   "cell_type": "code",
   "execution_count": 23,
   "metadata": {},
   "outputs": [
    {
     "name": "stdout",
     "output_type": "stream",
     "text": [
      "4 3\n",
      "<map object at 0x0000025D11A1A080>\n",
      "1 2 "
     ]
    }
   ],
   "source": [
    "def smallerNumber():\n",
    "    counts, target = map(int, input().split())\n",
    "    num_list = map(int, input().split())\n",
    "    for i in filter(lambda x: x<target, num_list):\n",
    "        print(i, end=' ')\n",
    "\n",
    "smallerNumber()\n"
   ]
  },
  {
   "cell_type": "code",
   "execution_count": 28,
   "metadata": {},
   "outputs": [
    {
     "name": "stdout",
     "output_type": "stream",
     "text": [
      "123 18\n"
     ]
    }
   ],
   "source": [
    "def findMaxMin():\n",
    "    counts = int(input())\n",
    "    num_list = list(map(int, input().split()))\n",
    "    print(min(num_list), max(num_list))\n",
    "\n",
    "findMaxMin()\n"
   ]
  },
  {
   "cell_type": "code",
   "execution_count": 38,
   "metadata": {},
   "outputs": [
    {
     "name": "stdout",
     "output_type": "stream",
     "text": [
      "85\n",
      "8\n"
     ]
    }
   ],
   "source": [
    "def findMaxAndIdx():\n",
    "    num_list = []\n",
    "    for i in range(0,9):\n",
    "        num_list.append(int(input()))\n",
    "    max_num = max(num_list)\n",
    "    idx = num_list.index(max_num)\n",
    "    print(max_num)\n",
    "    print(idx+1)\n",
    "\n",
    "findMaxAndIdx()"
   ]
  },
  {
   "cell_type": "code",
   "execution_count": 63,
   "metadata": {},
   "outputs": [
    {
     "name": "stdout",
     "output_type": "stream",
     "text": [
      "1 2 1 1 0 "
     ]
    }
   ],
   "source": [
    "def ballGame():\n",
    "    basket, attempts = map(int, input().split())\n",
    "    result = [0 for x in range(basket)]\n",
    "    for i in range(attempts):\n",
    "        start, end, num = map(int, input().split())\n",
    "        result[start-1:end] = [num for x in range(end-start+1)]\n",
    "\n",
    "    for i in result:\n",
    "        print(i, end=' ')\n",
    "\n",
    "ballGame()"
   ]
  },
  {
   "cell_type": "code",
   "execution_count": 68,
   "metadata": {},
   "outputs": [
    {
     "name": "stdout",
     "output_type": "stream",
     "text": [
      "[1, 2, 3, 4, 5]\n",
      "3 1 4 2 5 "
     ]
    }
   ],
   "source": [
    "def swapBall():\n",
    "    basket, attempts = map(int, input().split())\n",
    "    result = [x+1 for x in range(basket)]\n",
    "    for i in range(attempts):\n",
    "        a, b = map(int, input().split())\n",
    "        if(a==b): continue\n",
    "        else:\n",
    "            result[a-1], result[b-1] = result[b-1], result[a-1]\n",
    "\n",
    "    for i in result:\n",
    "        print(i, end=' ')\n",
    "\n",
    "swapBall()"
   ]
  },
  {
   "cell_type": "code",
   "execution_count": 72,
   "metadata": {},
   "outputs": [
    {
     "name": "stdout",
     "output_type": "stream",
     "text": [
      "5\n",
      "6\n"
     ]
    }
   ],
   "source": [
    "def assignment():\n",
    "    students = [x+1 for x in range(30)]\n",
    "    attends = []\n",
    "    for i in range(28):\n",
    "        attends.append(int(input()))\n",
    "    absentee = [x for x in students if x not in attends]\n",
    "    absentee.sort()\n",
    "    print(absentee[0])\n",
    "    print(absentee[1])\n",
    "assignment()"
   ]
  },
  {
   "cell_type": "code",
   "execution_count": 77,
   "metadata": {},
   "outputs": [
    {
     "name": "stdout",
     "output_type": "stream",
     "text": [
      "1\n"
     ]
    }
   ],
   "source": [
    "def countRemainder():\n",
    "    result = []\n",
    "    for i in range(10):\n",
    "        result.append(int(input())%42)\n",
    "    print(len(set(result)))\n",
    "\n",
    "countRemainder()"
   ]
  },
  {
   "cell_type": "code",
   "execution_count": 83,
   "metadata": {},
   "outputs": [
    {
     "name": "stdout",
     "output_type": "stream",
     "text": [
      "[3, 2]\n",
      "[5, 4]\n",
      "[5, 3, 4, 1]\n",
      "3 4 1 2 5 "
     ]
    }
   ],
   "source": [
    "def reverseBasket():\n",
    "    basket, attempts = map(int, input().split())\n",
    "    result = [x+1 for x in range(basket)]\n",
    "    for i in range(attempts):\n",
    "        start, end = map(int, input().split())\n",
    "        if(start==end): continue\n",
    "        else:\n",
    "            result[start-1:end] = list(reversed(result[start-1:end]))\n",
    "    for i in result:\n",
    "        print(i, end=' ')\n",
    "\n",
    "reverseBasket()"
   ]
  },
  {
   "cell_type": "code",
   "execution_count": 92,
   "metadata": {},
   "outputs": [
    {
     "name": "stdout",
     "output_type": "stream",
     "text": [
      "66.66666666666667\n"
     ]
    }
   ],
   "source": [
    "def manipulatedAvg():\n",
    "    subject_count = int(input())\n",
    "    subjects = list(map(int, input().split()))\n",
    "    subjects = [x/max(subjects)*100 for x in subjects]\n",
    "    print(sum(subjects)/subject_count)\n",
    "\n",
    "manipulatedAvg()"
   ]
  },
  {
   "cell_type": "code",
   "execution_count": null,
   "metadata": {},
   "outputs": [],
   "source": []
  }
 ],
 "metadata": {
  "kernelspec": {
   "display_name": "base",
   "language": "python",
   "name": "python3"
  },
  "language_info": {
   "codemirror_mode": {
    "name": "ipython",
    "version": 3
   },
   "file_extension": ".py",
   "mimetype": "text/x-python",
   "name": "python",
   "nbconvert_exporter": "python",
   "pygments_lexer": "ipython3",
   "version": "3.12.4"
  }
 },
 "nbformat": 4,
 "nbformat_minor": 2
}
