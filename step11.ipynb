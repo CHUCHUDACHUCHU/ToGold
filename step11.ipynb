{
 "cells": [
  {
   "cell_type": "code",
   "execution_count": null,
   "metadata": {},
   "outputs": [],
   "source": [
    "# 시간복잡도\n",
    "# 빠르게 하고 넘어감.\n",
    "\n",
    "# 근데 특히나\n",
    "# for 1 -> n\n",
    "# for 2 -> n^2\n",
    "# for 3 -> n^3 은 맞는데!\n",
    "\n",
    "# for문에서의 범위를 보고\n",
    "# 실제 작동되는 코드횟수를 잘 판단하는게 중요!\n",
    "# test4, test6처럼\n",
    "# 2중반복(1~n-1 / i+1 ~ n) => 1~n-1까지의 합\n",
    "# 3중반봅(1~n-1 / 1~n / 1~n+1) => nC3 조합의 경우의 수 판단."
   ]
  },
  {
   "cell_type": "code",
   "execution_count": 1,
   "metadata": {},
   "outputs": [
    {
     "name": "stdout",
     "output_type": "stream",
     "text": [
      "1\n",
      "0\n"
     ]
    }
   ],
   "source": [
    "# MenOfPassion(A[], n) {\n",
    "#     i = ⌊n / 2⌋;\n",
    "#     return A[i]; # 코드1\n",
    "# }\n",
    "# 이 함수의 시간 복잡도는\n",
    "# n이 아무리 커도 한 번만 수행한다.\n",
    "# 따라서 수행횟수는 무조건 1\n",
    "# 다항식으로 나타냈을 때 O(1) 이므로 차수는 0\n",
    "\n",
    "def test1():\n",
    "    print(1)\n",
    "    print(0)\n",
    "\n",
    "test1()"
   ]
  },
  {
   "cell_type": "code",
   "execution_count": 2,
   "metadata": {},
   "outputs": [
    {
     "name": "stdout",
     "output_type": "stream",
     "text": [
      "5\n",
      "1\n"
     ]
    }
   ],
   "source": [
    "# MenOfPassion(A[], n) {\n",
    "#     sum <- 0;\n",
    "#     for i <- 1 to n\n",
    "#         sum <- sum + A[i]; # 코드1\n",
    "#     return sum;\n",
    "# }\n",
    "\n",
    "# 이 함수는 n번 반복한다.\n",
    "# O(n)이므로 차수는 1\n",
    "\n",
    "def test2():\n",
    "    n = int(input())\n",
    "    print(n)\n",
    "    print(1)\n",
    "\n",
    "test2()"
   ]
  },
  {
   "cell_type": "code",
   "execution_count": null,
   "metadata": {},
   "outputs": [],
   "source": [
    "# MenOfPassion(A[], n) {\n",
    "#     sum <- 0;\n",
    "#     for i <- 1 to n\n",
    "#         for j <- 1 to n\n",
    "#             sum <- sum + A[i] × A[j]; # 코드1\n",
    "#     return sum;\n",
    "# }\n",
    "\n",
    "# n^2 만큼 실행된다.\n",
    "# O(n^2)이므로 차수는 2\n",
    "\n",
    "def test3():\n",
    "    n = int(input())\n",
    "    print(n**2)\n",
    "    print(2)\n",
    "\n",
    "test3()"
   ]
  },
  {
   "cell_type": "code",
   "execution_count": 24,
   "metadata": {},
   "outputs": [
    {
     "name": "stdout",
     "output_type": "stream",
     "text": [
      "21\n",
      "2\n"
     ]
    }
   ],
   "source": [
    "# MenOfPassion(A[], n) {\n",
    "#     sum <- 0;\n",
    "#     for i <- 1 to n - 1\n",
    "#         for j <- i + 1 to n\n",
    "#             sum <- sum + A[i] × A[j]; # 코드1\n",
    "#     return sum;\n",
    "# }\n",
    "# \n",
    "# 이 알고리즘에서 코드1의 실행횟수는\n",
    "# 1부터 n-1까지하는데\n",
    "# 1일 땐 2~n까지: n-1번\n",
    "# 2일 땐 3~n까지: n-2번\n",
    "# 3일 땐 4~n까지: n-3번\n",
    "# n-2일 땐 n-1~n까지: 2번\n",
    "# n-1일 땐 n까지: 1번\n",
    "# 따라서 (1+2+3+...n-1)번 한다.\n",
    "# 실행횟수는 따라서, (n-1)*n//2 번\n",
    "# O(n^2)이고 차수는 2이다.\n",
    "\n",
    "def test4():\n",
    "    n = int(input())\n",
    "    print(n*(n-1)//2)\n",
    "    print(2)\n",
    "\n",
    "test4()"
   ]
  },
  {
   "cell_type": "code",
   "execution_count": 25,
   "metadata": {},
   "outputs": [
    {
     "name": "stdout",
     "output_type": "stream",
     "text": [
      "343\n",
      "3\n"
     ]
    }
   ],
   "source": [
    "# MenOfPassion(A[], n) {\n",
    "#     sum <- 0;\n",
    "#     for i <- 1 to n\n",
    "#         for j <- 1 to n\n",
    "#             for k <- 1 to n\n",
    "#                 sum <- sum + A[i] × A[j] × A[k]; # 코드1\n",
    "#     return sum;\n",
    "# }\n",
    "\n",
    "# n^3\n",
    "\n",
    "def test5():\n",
    "    n = int(input())\n",
    "    print(n**3)\n",
    "    print(3)\n",
    "\n",
    "test5()"
   ]
  },
  {
   "cell_type": "code",
   "execution_count": 37,
   "metadata": {},
   "outputs": [
    {
     "name": "stdout",
     "output_type": "stream",
     "text": [
      "2345i 1\n",
      "345i 2\n",
      "45i 3\n",
      "5i 4\n",
      "10\n"
     ]
    }
   ],
   "source": [
    "def MenOfPassion(n) :\n",
    "    sum = 0\n",
    "    for i in range(1, n - 1):\n",
    "        for j in range(i + 1, n):\n",
    "            for k in range(j + 1, n+1):\n",
    "                sum += 1\n",
    "                print(k,end='')\n",
    "            print('j', j)\n",
    "        print('i', i)\n",
    "    print(sum)\n",
    "# MenOfPassion(6)\n",
    "\n",
    "# 지금 이 과정을 보면\n",
    "# i가 1일 때, (j5k6), (j4k5, j4k6) ----\n",
    "# 이런식으로 3개를 뽑고 있다.\n",
    "# 즉 nC3 조합의 경우의수와 같다.\n",
    "# 따라서, n*(n-1)*(n-2)//3*2*1\n",
    "\n",
    "def test6():\n",
    "    n = int(input())\n",
    "    print(n*(n-1)*(n-2)//6)\n",
    "    print(3)\n",
    "\n",
    "# test6()"
   ]
  },
  {
   "cell_type": "code",
   "execution_count": 39,
   "metadata": {},
   "outputs": [
    {
     "name": "stdout",
     "output_type": "stream",
     "text": [
      "1\n"
     ]
    }
   ],
   "source": [
    "def test7():\n",
    "    a1, a0 = map(int, input().split())\n",
    "    c = int(input())\n",
    "    n0 = int(input())\n",
    "\n",
    "    if(a1*n0 + a0 <= c*n0 and a1<=c):\n",
    "        print(1)\n",
    "    else:\n",
    "        print(0)\n",
    "\n",
    "test7()"
   ]
  }
 ],
 "metadata": {
  "kernelspec": {
   "display_name": "base",
   "language": "python",
   "name": "python3"
  },
  "language_info": {
   "codemirror_mode": {
    "name": "ipython",
    "version": 3
   },
   "file_extension": ".py",
   "mimetype": "text/x-python",
   "name": "python",
   "nbconvert_exporter": "python",
   "pygments_lexer": "ipython3",
   "version": "3.12.4"
  }
 },
 "nbformat": 4,
 "nbformat_minor": 2
}
