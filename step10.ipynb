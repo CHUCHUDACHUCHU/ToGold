{
 "cells": [
  {
   "cell_type": "code",
   "execution_count": null,
   "metadata": {},
   "outputs": [],
   "source": [
    "#step10"
   ]
  },
  {
   "cell_type": "code",
   "execution_count": 3,
   "metadata": {},
   "outputs": [
    {
     "name": "stdout",
     "output_type": "stream",
     "text": [
      "6\n"
     ]
    }
   ],
   "source": [
    "def test1():\n",
    "    width = int(input())\n",
    "    height = int(input())\n",
    "    print(width*height)\n",
    "\n",
    "test1()\n"
   ]
  },
  {
   "cell_type": "code",
   "execution_count": 7,
   "metadata": {},
   "outputs": [
    {
     "name": "stdout",
     "output_type": "stream",
     "text": [
      "161\n"
     ]
    }
   ],
   "source": [
    "def test2():\n",
    "    x,y,w,h = map(int, input().split())\n",
    "    print(min([x,y,w-x, h-y]))\n",
    "\n",
    "test2()"
   ]
  },
  {
   "cell_type": "code",
   "execution_count": 20,
   "metadata": {},
   "outputs": [
    {
     "name": "stdout",
     "output_type": "stream",
     "text": [
      "8 8\n"
     ]
    }
   ],
   "source": [
    "def test3():\n",
    "    x = []\n",
    "    y = []\n",
    "    for i in range(3):\n",
    "        a,b = map(int, input().split())\n",
    "        if a in x :\n",
    "            x.remove(a)\n",
    "        else:\n",
    "            x.append(a)\n",
    "        if b in y :\n",
    "            y.remove(b)\n",
    "        else:\n",
    "            y.append(b)\n",
    "\n",
    "    print(x[0], y[0])\n",
    "\n",
    "# test3()\n",
    "\n",
    "# XOR 연산 이용.\n",
    "# a ^ a = 0 (같은 값을 XOR 하면 0)\n",
    "# a ^ 0 = a (0과 XOR 하면 자기 자신)\n",
    "def test3_1():\n",
    "    x = 0\n",
    "    y = 0\n",
    "    for i in range(3):\n",
    "        a, b = map(int, input().split())\n",
    "        x ^= a\n",
    "        y ^= b\n",
    "    \n",
    "    print(x, y)\n",
    "\n",
    "test3_1()"
   ]
  },
  {
   "cell_type": "code",
   "execution_count": null,
   "metadata": {},
   "outputs": [],
   "source": [
    "def test4():\n",
    "    n = int(input())\n",
    "    print(4*n)\n",
    "\n",
    "test4()"
   ]
  },
  {
   "cell_type": "code",
   "execution_count": 1,
   "metadata": {},
   "outputs": [
    {
     "name": "stdout",
     "output_type": "stream",
     "text": [
      "330\n"
     ]
    }
   ],
   "source": [
    "def test5():\n",
    "    dots = int(input())\n",
    "    x = []\n",
    "    y = []\n",
    "    for i in range(dots):\n",
    "        a,b = map(int,input().split())\n",
    "        x.append(a)\n",
    "        y.append(b)\n",
    "\n",
    "    print((max(x)-min(x))*(max(y)-min(y)))\n",
    "\n",
    "test5()"
   ]
  },
  {
   "cell_type": "code",
   "execution_count": 2,
   "metadata": {},
   "outputs": [
    {
     "name": "stdout",
     "output_type": "stream",
     "text": [
      "Scalene\n"
     ]
    }
   ],
   "source": [
    "def test6():\n",
    "    tri = []\n",
    "    for i in range(3):\n",
    "        tri.append(int(input()))\n",
    "\n",
    "    count = len(set(tri))\n",
    "    if(sum(tri) != 180):\n",
    "        print('Error')\n",
    "    elif(count == 1):\n",
    "        print('Equilateral')\n",
    "    elif(count == 2):\n",
    "        print('Isosceles')\n",
    "    else:\n",
    "        print('Scalene')\n",
    "\n",
    "test6()"
   ]
  },
  {
   "cell_type": "code",
   "execution_count": 3,
   "metadata": {},
   "outputs": [
    {
     "name": "stdout",
     "output_type": "stream",
     "text": [
      "Invalid\n"
     ]
    }
   ],
   "source": [
    "def test7():\n",
    "    while 1:\n",
    "        x = list(map(int, input().split()))\n",
    "        y = set(x)\n",
    "        if(0 in x):\n",
    "            break\n",
    "        elif(max(x) >= sum(x)-max(x)):\n",
    "            print('Invalid')\n",
    "        elif(len(y) == 1):\n",
    "            print('Equilateral')\n",
    "        elif(len(y) == 2):\n",
    "            print('Isosceles')\n",
    "        elif(len(y) == 3):\n",
    "            print('Scalene')\n",
    "\n",
    "test7()"
   ]
  },
  {
   "cell_type": "code",
   "execution_count": 7,
   "metadata": {},
   "outputs": [
    {
     "name": "stdout",
     "output_type": "stream",
     "text": [
      "113\n"
     ]
    }
   ],
   "source": [
    "def test8():\n",
    "    tri = list(map(int, input().split()))\n",
    "    top = max(tri)\n",
    "    total = sum(tri)\n",
    "    if(top >= total-top):\n",
    "        print(2*(total-top)-1)\n",
    "    else:\n",
    "        print(total)\n",
    "\n",
    "test8()"
   ]
  }
 ],
 "metadata": {
  "kernelspec": {
   "display_name": "base",
   "language": "python",
   "name": "python3"
  },
  "language_info": {
   "codemirror_mode": {
    "name": "ipython",
    "version": 3
   },
   "file_extension": ".py",
   "mimetype": "text/x-python",
   "name": "python",
   "nbconvert_exporter": "python",
   "pygments_lexer": "ipython3",
   "version": "3.12.4"
  }
 },
 "nbformat": 4,
 "nbformat_minor": 2
}
