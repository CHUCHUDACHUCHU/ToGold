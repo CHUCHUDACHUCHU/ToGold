{
 "cells": [
  {
   "cell_type": "code",
   "execution_count": 30,
   "metadata": {},
   "outputs": [],
   "source": [
    "# step8"
   ]
  },
  {
   "cell_type": "code",
   "execution_count": 29,
   "metadata": {},
   "outputs": [
    {
     "name": "stdout",
     "output_type": "stream",
     "text": [
      "60466175\n"
     ]
    }
   ],
   "source": [
    "def test1():\n",
    "    N, B = input().split()\n",
    "    B = int(B)\n",
    "    total = 0\n",
    "    for i,v in enumerate(reversed(N)):\n",
    "        if v.isnumeric():\n",
    "            total += int(v)*(B**i)\n",
    "        else:\n",
    "            total += (ord(v)-55)*(B**i)\n",
    "    print(total)\n",
    "\n",
    "test1()\n"
   ]
  },
  {
   "cell_type": "code",
   "execution_count": 43,
   "metadata": {},
   "outputs": [
    {
     "name": "stdout",
     "output_type": "stream",
     "text": [
      "['5', '4', '3', '2', '1']\n",
      "12345\n"
     ]
    }
   ],
   "source": [
    "def test2():\n",
    "    N, B = map(int, input().split())\n",
    "    total = []\n",
    "    while N != 0:\n",
    "        c = N%B\n",
    "        total.append(str(c) if c<10 else chr(c+55))\n",
    "        N = N//B\n",
    "\n",
    "    print(''.join(reversed(total)))\n",
    "\n",
    "test2()"
   ]
  },
  {
   "cell_type": "code",
   "execution_count": 45,
   "metadata": {},
   "outputs": [
    {
     "name": "stdout",
     "output_type": "stream",
     "text": [
      "4 2 0 4 \n",
      "1 0 0 0 \n",
      "7 1 1 4 \n"
     ]
    }
   ],
   "source": [
    "def test3():\n",
    "    attempts = int(input())\n",
    "    table = [25, 10, 5, 1]\n",
    "    for i in range(attempts):\n",
    "        total = []\n",
    "        pay = int(input())\n",
    "        for c in table:\n",
    "            total.append(pay//c)\n",
    "            pay = pay%c\n",
    "        for c in total:\n",
    "            print(c, end=' ')\n",
    "        print()\n",
    "\n",
    "test3()\n"
   ]
  },
  {
   "cell_type": "code",
   "execution_count": 12,
   "metadata": {},
   "outputs": [
    {
     "name": "stdout",
     "output_type": "stream",
     "text": [
      "1089\n"
     ]
    }
   ],
   "source": [
    "def test4():\n",
    "    input_num = int(input())\n",
    "    row = 2**(input_num)+1\n",
    "    print(row**2)\n",
    "\n",
    "test4()"
   ]
  },
  {
   "cell_type": "code",
   "execution_count": 32,
   "metadata": {},
   "outputs": [
    {
     "name": "stdout",
     "output_type": "stream",
     "text": [
      "3\n"
     ]
    }
   ],
   "source": [
    "def test5():\n",
    "    N = int(input())\n",
    "    a = 1\n",
    "    b = 1\n",
    "\n",
    "    while a < N:\n",
    "        a += 6 * b\n",
    "        b += 1\n",
    "\n",
    "    print(b)\n",
    "\n",
    "test5()"
   ]
  },
  {
   "cell_type": "code",
   "execution_count": 95,
   "metadata": {},
   "outputs": [
    {
     "name": "stdout",
     "output_type": "stream",
     "text": [
      "2/4\n"
     ]
    }
   ],
   "source": [
    "def test6():\n",
    "    num = int(input())\n",
    "    line = 1\n",
    "\n",
    "    while num > line:\n",
    "        num -= line\n",
    "        line += 1\n",
    "        \n",
    "    if line % 2 == 0:\n",
    "        a = num\n",
    "        b = line - num + 1\n",
    "    elif line % 2 == 1:\n",
    "        a = line - num + 1\n",
    "        b = num\n",
    "\n",
    "    print(f'{a}/{b}')\n",
    "test6()"
   ]
  },
  {
   "cell_type": "code",
   "execution_count": null,
   "metadata": {},
   "outputs": [],
   "source": []
  }
 ],
 "metadata": {
  "kernelspec": {
   "display_name": "base",
   "language": "python",
   "name": "python3"
  },
  "language_info": {
   "codemirror_mode": {
    "name": "ipython",
    "version": 3
   },
   "file_extension": ".py",
   "mimetype": "text/x-python",
   "name": "python",
   "nbconvert_exporter": "python",
   "pygments_lexer": "ipython3",
   "version": "3.12.6"
  }
 },
 "nbformat": 4,
 "nbformat_minor": 2
}
