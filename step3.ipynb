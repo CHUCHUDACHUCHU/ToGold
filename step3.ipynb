{
 "cells": [
  {
   "cell_type": "code",
   "execution_count": 1,
   "id": "fbbed655-2775-4b6f-8981-c993980d6670",
   "metadata": {},
   "outputs": [],
   "source": [
    "# step3"
   ]
  },
  {
   "cell_type": "code",
   "execution_count": 2,
   "id": "ff6fb637-41d9-49bd-9dad-529341ca5f5e",
   "metadata": {},
   "outputs": [
    {
     "name": "stdin",
     "output_type": "stream",
     "text": [
      " 4\n"
     ]
    },
    {
     "name": "stdout",
     "output_type": "stream",
     "text": [
      "4 * 1 = 4\n",
      "4 * 2 = 8\n",
      "4 * 3 = 12\n",
      "4 * 4 = 16\n",
      "4 * 5 = 20\n",
      "4 * 6 = 24\n",
      "4 * 7 = 28\n",
      "4 * 8 = 32\n",
      "4 * 9 = 36\n"
     ]
    }
   ],
   "source": [
    "def gugudan(x):\n",
    "    for i in range(1,10):\n",
    "        print(f\"{x} * {i} = {x*i}\")\n",
    "\n",
    "num = int(input())\n",
    "gugudan(num)"
   ]
  },
  {
   "cell_type": "code",
   "execution_count": 11,
   "id": "9563d806-d843-48b7-a795-5afefc67d4f5",
   "metadata": {},
   "outputs": [
    {
     "name": "stdin",
     "output_type": "stream",
     "text": [
      " 2\n",
      " 3 3\n"
     ]
    },
    {
     "name": "stdout",
     "output_type": "stream",
     "text": [
      "6\n"
     ]
    },
    {
     "name": "stdin",
     "output_type": "stream",
     "text": [
      " 4 2\n"
     ]
    },
    {
     "name": "stdout",
     "output_type": "stream",
     "text": [
      "6\n"
     ]
    }
   ],
   "source": [
    "def iteratePlus(x):\n",
    "    for i in range(0,x):\n",
    "        a,b = map(int, input().split())\n",
    "        print(a+b)\n",
    "\n",
    "num = int(input())\n",
    "iteratePlus(num)"
   ]
  },
  {
   "cell_type": "code",
   "execution_count": 8,
   "id": "640418dd-7565-401f-b3a5-ecefd2885168",
   "metadata": {},
   "outputs": [
    {
     "name": "stdin",
     "output_type": "stream",
     "text": [
      " 4\n"
     ]
    },
    {
     "name": "stdout",
     "output_type": "stream",
     "text": [
      "10\n"
     ]
    }
   ],
   "source": [
    "def onetoNum(x):\n",
    "    print(x*(x+1)//2)\n",
    "\n",
    "num = int(input())\n",
    "onetoNum(num)"
   ]
  },
  {
   "cell_type": "code",
   "execution_count": 14,
   "id": "53589002-3083-44fc-af21-a4717beb020b",
   "metadata": {},
   "outputs": [
    {
     "name": "stdin",
     "output_type": "stream",
     "text": [
      " 260000\n",
      " 4\n",
      " 20000 5\n",
      " 30000 2\n",
      " 10000 6\n",
      " 5000 8\n"
     ]
    },
    {
     "name": "stdout",
     "output_type": "stream",
     "text": [
      "Yes\n"
     ]
    }
   ],
   "source": [
    "def isRightReceipt(total):\n",
    "    totalCount = int(input())\n",
    "    totalPrice = 0\n",
    "    for i in range(totalCount):\n",
    "        price, count = map(int, input().split())\n",
    "        totalPrice += price*count\n",
    "    if(total==totalPrice):\n",
    "        print('Yes')\n",
    "    else:\n",
    "        print('No')\n",
    "\n",
    "total = int(input())\n",
    "isRightReceipt(total)"
   ]
  },
  {
   "cell_type": "code",
   "execution_count": 16,
   "id": "94bb614b-adad-458d-9dc4-bbb27597b276",
   "metadata": {},
   "outputs": [
    {
     "name": "stdin",
     "output_type": "stream",
     "text": [
      " 20\n"
     ]
    },
    {
     "name": "stdout",
     "output_type": "stream",
     "text": [
      "long long long long long int\n"
     ]
    }
   ],
   "source": [
    "def whatType():\n",
    "    num = int(input())\n",
    "    ans = ''\n",
    "    for i in range(num//4):\n",
    "        ans += 'long '\n",
    "    ans += 'int'\n",
    "    print(ans)\n",
    "\n",
    "whatType()"
   ]
  },
  {
   "cell_type": "code",
   "execution_count": null,
   "id": "90c716b4-081a-4a41-adaa-b8f0e34e83ad",
   "metadata": {
    "scrolled": true
   },
   "outputs": [],
   "source": [
    "def iteratePlus(x):\n",
    "    for i in range(0,x):\n",
    "        a,b = map(int, input().split())\n",
    "        print(f'Case #{i+1}: {a+b}')\n",
    "\n",
    "num = int(input())\n",
    "iteratePlus(num)"
   ]
  },
  {
   "cell_type": "code",
   "execution_count": 28,
   "id": "69b5f091-71cc-46fc-9073-62e747c6ac2f",
   "metadata": {},
   "outputs": [
    {
     "name": "stdin",
     "output_type": "stream",
     "text": [
      " 3\n",
      " 1 2\n"
     ]
    },
    {
     "name": "stdout",
     "output_type": "stream",
     "text": [
      "Case #1 1 + 2 = : 3\n"
     ]
    },
    {
     "name": "stdin",
     "output_type": "stream",
     "text": [
      " 3 4\n"
     ]
    },
    {
     "name": "stdout",
     "output_type": "stream",
     "text": [
      "Case #2 3 + 4 = : 7\n"
     ]
    },
    {
     "name": "stdin",
     "output_type": "stream",
     "text": [
      " 123 312\n"
     ]
    },
    {
     "name": "stdout",
     "output_type": "stream",
     "text": [
      "Case #3 123 + 312 = : 435\n"
     ]
    }
   ],
   "source": [
    "def iteratePlus(x):\n",
    "    for i in range(0,x):\n",
    "        a,b = map(int, input().split())\n",
    "        print(f'Case #{i+1}: {a} + {b} = {a+b}')\n",
    "\n",
    "num = int(input())\n",
    "iteratePlus(num)"
   ]
  },
  {
   "cell_type": "code",
   "execution_count": 48,
   "id": "612c09d2-3a02-4e55-afa8-22f1b31705ef",
   "metadata": {},
   "outputs": [
    {
     "name": "stdin",
     "output_type": "stream",
     "text": [
      " 5\n"
     ]
    },
    {
     "name": "stdout",
     "output_type": "stream",
     "text": [
      "    *\n",
      "   **\n",
      "  ***\n",
      " ****\n",
      "*****\n"
     ]
    }
   ],
   "source": [
    "def drawStar(num):\n",
    "    for i in range(1, num+1):\n",
    "        star = ''\n",
    "        for j in range(num, 0, -1):\n",
    "            if(j > i):\n",
    "                star += ' '\n",
    "            else:\n",
    "                star += '*'\n",
    "        print(star)\n",
    "\n",
    "num = int(input())\n",
    "drawStar(num)\n",
    "        "
   ]
  },
  {
   "cell_type": "code",
   "execution_count": 52,
   "id": "acb75b59-d4b9-46f4-be88-0fe129dbd3b3",
   "metadata": {},
   "outputs": [
    {
     "name": "stdin",
     "output_type": "stream",
     "text": [
      " 1 2\n"
     ]
    },
    {
     "name": "stdout",
     "output_type": "stream",
     "text": [
      "3\n"
     ]
    },
    {
     "name": "stdin",
     "output_type": "stream",
     "text": [
      " 33 312\n"
     ]
    },
    {
     "name": "stdout",
     "output_type": "stream",
     "text": [
      "345\n"
     ]
    },
    {
     "name": "stdin",
     "output_type": "stream",
     "text": [
      " 2 4\n"
     ]
    },
    {
     "name": "stdout",
     "output_type": "stream",
     "text": [
      "6\n"
     ]
    },
    {
     "name": "stdin",
     "output_type": "stream",
     "text": [
      " 123 23\n"
     ]
    },
    {
     "name": "stdout",
     "output_type": "stream",
     "text": [
      "146\n"
     ]
    },
    {
     "name": "stdin",
     "output_type": "stream",
     "text": [
      " 0 0\n"
     ]
    }
   ],
   "source": [
    "def untilZero():\n",
    "    while(True):\n",
    "        a,b = map(int, input().split())\n",
    "        if(a==0 and b==0):\n",
    "            break\n",
    "        else:\n",
    "            print(a+b)\n",
    "\n",
    "untilZero()"
   ]
  },
  {
   "cell_type": "code",
   "execution_count": 60,
   "id": "f5f7cba4-5088-4329-b425-187ac9c11f8f",
   "metadata": {},
   "outputs": [
    {
     "name": "stdin",
     "output_type": "stream",
     "text": [
      " 1 1 2 3 3 4 9 8 5 2\n"
     ]
    }
   ],
   "source": [
    "def untilPlus():\n",
    "    while(True):\n",
    "        try:\n",
    "            a,b=map(int,input().split())\n",
    "            print(a+b)\n",
    "        except:\n",
    "            break\n",
    "\n",
    "untilPlus()"
   ]
  },
  {
   "cell_type": "code",
   "execution_count": 62,
   "id": "a3c37467-e184-4d91-bbf9-a838e9c10085",
   "metadata": {},
   "outputs": [],
   "source": [
    "import sys\n",
    "\n",
    "for i in sys.stdin:\n",
    "    a,b = map(int, i.split())\n",
    "    print(a+b)"
   ]
  },
  {
   "cell_type": "code",
   "execution_count": null,
   "id": "414a696c-228e-4611-937f-09aba9ca8290",
   "metadata": {},
   "outputs": [],
   "source": []
  }
 ],
 "metadata": {
  "kernelspec": {
   "display_name": "Python 3 (ipykernel)",
   "language": "python",
   "name": "python3"
  },
  "language_info": {
   "codemirror_mode": {
    "name": "ipython",
    "version": 3
   },
   "file_extension": ".py",
   "mimetype": "text/x-python",
   "name": "python",
   "nbconvert_exporter": "python",
   "pygments_lexer": "ipython3",
   "version": "3.12.6"
  }
 },
 "nbformat": 4,
 "nbformat_minor": 5
}
