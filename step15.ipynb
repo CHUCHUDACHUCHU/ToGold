{
 "cells": [
  {
   "cell_type": "code",
   "execution_count": null,
   "metadata": {},
   "outputs": [],
   "source": [
    "# 약수, 배수, 소수 2단계\n",
    "# ver : 2024-10-31 09:38\n",
    "# important를 검색하세요."
   ]
  },
  {
   "cell_type": "markdown",
   "metadata": {},
   "source": [
    "60 48 \n",
    "\n",
    "48 12\n",
    "\n",
    "12 0\n",
    "\n",
    "\n",
    "12 18\n",
    "\n",
    "18 12\n",
    "\n",
    "12 6\n",
    "\n",
    "6 0"
   ]
  },
  {
   "cell_type": "code",
   "execution_count": null,
   "metadata": {},
   "outputs": [
    {
     "name": "stdout",
     "output_type": "stream",
     "text": [
      "36\n",
      "120\n"
     ]
    }
   ],
   "source": [
    "# 1. 최소공배수(lcm) = a*b/gcd(a,b)\n",
    "\n",
    "# 최대공약수 유클리드호제법 기억하기!!!\n",
    "# a,b = b,a%b !!!! b==0 까지!!! return a\n",
    "def test():\n",
    "    n = int(input())\n",
    "    for _ in range(n):\n",
    "        a,b = map(int, input().split())\n",
    "        target = a*b\n",
    "        while b:\n",
    "            a, b = b, a%b\n",
    "        print(target//a)\n",
    "# test()\n",
    "\n",
    "import math\n",
    "def test_1():\n",
    "    n = int(input())\n",
    "    for _ in range(n):\n",
    "        a,b = map(int, input().split())\n",
    "        print(a*b//math.gcd(a,b))\n",
    "\n",
    "test_1()"
   ]
  },
  {
   "cell_type": "code",
   "execution_count": null,
   "metadata": {},
   "outputs": [
    {
     "name": "stdout",
     "output_type": "stream",
     "text": [
      "최대공약수(GCD): 4\n",
      "최소공배수(LCM): 240\n"
     ]
    }
   ],
   "source": [
    "from math import gcd, lcm\n",
    "from functools import reduce\n",
    "\n",
    "# 최대공약수(GCD) 구하기\n",
    "def gcd_multiple(numbers):\n",
    "    return reduce(gcd, numbers)\n",
    "\n",
    "# 최소공배수(LCM) 구하기\n",
    "def lcm_multiple(numbers):\n",
    "    # def lcm(a, b):\n",
    "    #     return a * b // gcd(a, b)\n",
    "    return reduce(lcm, numbers)\n",
    "\n",
    "# 입력을 리스트로 받기\n",
    "numbers = list(map(int, input(\"숫자를 입력하세요: \").split()))\n",
    "\n",
    "# 결과 출력\n",
    "print(\"최대공약수(GCD):\", gcd_multiple(numbers))\n",
    "print(\"최소공배수(LCM):\", lcm_multiple(numbers))\n"
   ]
  },
  {
   "cell_type": "code",
   "execution_count": 6,
   "metadata": {},
   "outputs": [
    {
     "name": "stdout",
     "output_type": "stream",
     "text": [
      "15\n"
     ]
    }
   ],
   "source": [
    "# 2. 꽤 큰 숫자의 최소공배수..?\n",
    "from math import lcm\n",
    "def test():\n",
    "    a,b = map(int, input().split())\n",
    "    print(lcm(a,b))\n",
    "test()"
   ]
  },
  {
   "cell_type": "code",
   "execution_count": 7,
   "metadata": {},
   "outputs": [
    {
     "name": "stdout",
     "output_type": "stream",
     "text": [
      "31 35\n"
     ]
    }
   ],
   "source": [
    "# 3. 기약분수 합.\n",
    "from math import gcd\n",
    "def test():\n",
    "    a,b=map(int, input().split())\n",
    "    c,d=map(int, input().split())\n",
    "\n",
    "    e = (a*d) + (c*b)\n",
    "    f = b*d\n",
    "    g = gcd(e,f)\n",
    "    print(e//g, f//g)\n",
    "test()"
   ]
  },
  {
   "cell_type": "code",
   "execution_count": 24,
   "metadata": {},
   "outputs": [
    {
     "name": "stdout",
     "output_type": "stream",
     "text": [
      "0\n"
     ]
    }
   ],
   "source": [
    "# 4. 가로수\n",
    "# 1 4 10 19 이런식으로 있을 때\n",
    "# 간격이 동일하려면? 최소 몇개를 끼워넣어야 할까?\n",
    "# -> 간격 중에서 3, 6, 9 중에서 최대공약수로 넣음 되겠다!\n",
    "# 3!!!\n",
    "from math import gcd\n",
    "from functools import reduce\n",
    "def test():\n",
    "    n = int(input())\n",
    "    arr = [int(input()) for _ in range(n)]\n",
    "    num = []\n",
    "    for i,v in enumerate(arr[:-1]):\n",
    "        num.append(arr[i+1]-v)\n",
    "\n",
    "    target = reduce(gcd, num)\n",
    "    count = (arr[-1]-arr[0])//target + 1\n",
    "    print(count-n)\n",
    "test()"
   ]
  },
  {
   "cell_type": "code",
   "execution_count": 25,
   "metadata": {},
   "outputs": [
    {
     "name": "stdout",
     "output_type": "stream",
     "text": [
      "7\n",
      "23\n",
      "101\n"
     ]
    }
   ],
   "source": [
    "# 5. 다음소수\n",
    "def test():\n",
    "    n = int(input())\n",
    "    for _ in range(n):\n",
    "        target = int(input())\n",
    "        while sosu(target) == False:\n",
    "            target += 1\n",
    "        print(target)\n",
    "\n",
    "def sosu(n):\n",
    "    if n <= 1:\n",
    "        return False\n",
    "    if n <= 3:\n",
    "        return True\n",
    "    if n % 2 == 0 or n % 3 == 0:\n",
    "        return False\n",
    "    i = 5\n",
    "    while i*i<=n:\n",
    "        if n%i == 0 or n%(i+2)==0:\n",
    "            return False\n",
    "        i+=6\n",
    "    return True\n",
    "\n",
    "        \n",
    "            \n",
    "test()"
   ]
  },
  {
   "cell_type": "code",
   "execution_count": 26,
   "metadata": {},
   "outputs": [
    {
     "name": "stdout",
     "output_type": "stream",
     "text": [
      "3\n",
      "5\n",
      "7\n",
      "11\n",
      "13\n"
     ]
    }
   ],
   "source": [
    "#6. 소수구하기\n",
    "# 5. 다음소수\n",
    "def test():\n",
    "    start, end = map(int, input().split())\n",
    "    for target in range(start, end+1):\n",
    "        if sosu(target):\n",
    "            print(target)\n",
    "\n",
    "def sosu(n):\n",
    "    if n <= 1:\n",
    "        return False\n",
    "    if n <= 3:\n",
    "        return True\n",
    "    if n % 2 == 0 or n % 3 == 0:\n",
    "        return False\n",
    "    i = 5\n",
    "    while i*i<=n:\n",
    "        if n%i == 0 or n%(i+2)==0:\n",
    "            return False\n",
    "        i+=6\n",
    "    return True\n",
    "        \n",
    "            \n",
    "test()"
   ]
  },
  {
   "cell_type": "code",
   "execution_count": null,
   "metadata": {},
   "outputs": [
    {
     "name": "stdout",
     "output_type": "stream",
     "text": [
      "3\n"
     ]
    }
   ],
   "source": [
    "#7. 베르트랑 공준\n",
    "import sys\n",
    "\n",
    "MAX_NUM = 123456 * 2\n",
    "is_prime = [True] * (MAX_NUM + 1)\n",
    "is_prime[0], is_prime[1] = False, False\n",
    "\n",
    "# 소수 여부 구하기\n",
    "for i in range(2, int(MAX_NUM ** 0.5) + 1):\n",
    "    if is_prime[i]:\n",
    "        for j in range(i * i, MAX_NUM + 1, i):\n",
    "            is_prime[j] = False\n",
    "def test():\n",
    "    while 1:\n",
    "        start = int(sys.stdin.readline().strip())\n",
    "        if start==0:\n",
    "            break\n",
    "        count=0\n",
    "        for target in range(start+1, 2*start+1):\n",
    "            if is_prime[target]:\n",
    "                count+=1\n",
    "        else:\n",
    "            print(count)\n",
    "            \n",
    "test()"
   ]
  },
  {
   "cell_type": "code",
   "execution_count": null,
   "metadata": {},
   "outputs": [
    {
     "name": "stdout",
     "output_type": "stream",
     "text": [
      "1\n",
      "1\n",
      "2\n",
      "1\n",
      "6\n"
     ]
    }
   ],
   "source": [
    "#8. 골드바흐 파티션\n",
    "import sys\n",
    "MAX_NUM = 1000000\n",
    "is_prime = [True] * (MAX_NUM + 1)\n",
    "\n",
    "# 소수 여부 구하기\n",
    "for i in range(2, int(MAX_NUM ** 0.5) + 1):\n",
    "    if is_prime[i]:\n",
    "        for j in range(i * i, MAX_NUM + 1, i):\n",
    "            is_prime[j] = False\n",
    "def test():\n",
    "    attempts = int(input())\n",
    "    for _ in range(attempts):\n",
    "        n = int(sys.stdin.readline().strip())\n",
    "        count = 0\n",
    "        for target in range(2, n//2+1):\n",
    "            if is_prime[target] and is_prime[n-target]:\n",
    "                count+=1\n",
    "        print(count)\n",
    "            \n",
    "test()"
   ]
  },
  {
   "cell_type": "code",
   "execution_count": null,
   "metadata": {},
   "outputs": [
    {
     "name": "stdout",
     "output_type": "stream",
     "text": [
      "0\n"
     ]
    }
   ],
   "source": [
    "#9. 창문닫기\n",
    "# important\n",
    "def test():\n",
    "    n = int(input())\n",
    "    if n==1:\n",
    "        print(1)\n",
    "        return\n",
    "    count = 0\n",
    "    for i in range(1, n):\n",
    "        if i*i <= n:\n",
    "            count += 1\n",
    "        else:\n",
    "            break\n",
    "    print(count)\n",
    "test()\n",
    "\n",
    "# 18이라고 했을 때\n",
    "# 1\n",
    "# 10\n",
    "# 100(101 => 100)\n",
    "# 1001 (4는 1001)\n",
    "# 10010 (5는 11110)"
   ]
  },
  {
   "cell_type": "markdown",
   "metadata": {},
   "source": [
    "24\n",
    "111111111111111111111111  1\n",
    "101010101010101010101010  2 \n",
    "100011100011100011100011  3 \n",
    "100111110010100111110010  4\n",
    "100101110110101111100010  5\n",
    "100100110111101110100011  6\n",
    "100100010111111110101011  7\n",
    "100100000111111010101010  8\n",
    "100100001111111011101010  9\n",
    "100100001011111011111010  10\n",
    "100100001001111011111110  11\n",
    "100100001000111011111111  12\n",
    "1001000010000 11011111111 13\n",
    "10010000100000 1011111111 14\n",
    "100100001000000 011111111 15\n",
    "1001000010000001 11111111 16\n",
    "10010000100000010 1111111 17\n",
    "100100001000 000100000000 24 1 2 3 4 | 6 8 12 24\n",
    "1 4 9 16\n",
    "\n",
    "\n",
    "\n",
    "\n",
    "\n"
   ]
  }
 ],
 "metadata": {
  "kernelspec": {
   "display_name": "base",
   "language": "python",
   "name": "python3"
  },
  "language_info": {
   "codemirror_mode": {
    "name": "ipython",
    "version": 3
   },
   "file_extension": ".py",
   "mimetype": "text/x-python",
   "name": "python",
   "nbconvert_exporter": "python",
   "pygments_lexer": "ipython3",
   "version": "3.12.4"
  }
 },
 "nbformat": 4,
 "nbformat_minor": 2
}
